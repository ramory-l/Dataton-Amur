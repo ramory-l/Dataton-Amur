{
  "nbformat": 4,
  "nbformat_minor": 0,
  "metadata": {
    "kernelspec": {
      "display_name": "Python 3",
      "language": "python",
      "name": "python3"
    },
    "language_info": {
      "codemirror_mode": {
        "name": "ipython",
        "version": 3
      },
      "file_extension": ".py",
      "mimetype": "text/x-python",
      "name": "python",
      "nbconvert_exporter": "python",
      "pygments_lexer": "ipython3",
      "version": "3.7.4"
    },
    "colab": {
      "name": "03_team_hak_19_10.ipynb",
      "provenance": [],
      "collapsed_sections": []
    }
  },
  "cells": [
    {
      "cell_type": "code",
      "metadata": {
        "id": "H2zDYi-uv3Uf"
      },
      "source": [
        "# импортируем все необходимые библиотеки\n",
        "import pandas as pd\n",
        "import numpy as np\n",
        "import matplotlib.pyplot as plt\n",
        "from datetime import datetime, timedelta"
      ],
      "execution_count": null,
      "outputs": []
    },
    {
      "cell_type": "markdown",
      "metadata": {
        "id": "6YJXdKEZwvv8"
      },
      "source": [
        "# Предсказание уровней воды на реке Амур"
      ]
    },
    {
      "cell_type": "code",
      "metadata": {
        "id": "zfqEj2Ykv3Ul"
      },
      "source": [
        "# Описание данных\n",
        "# https://github.com/sberbank-ai/no_flood_with_ai_aij2020/blob/main/desc/datasets_description_ru.md\n",
        "# Описание задачи, которую можно решать:\n",
        "# https://github.com/sberbank-ai/no_flood_with_ai_aij2020\n",
        "# Данные \n",
        "# https://storage.yandexcloud.net/datasouls-ods/materials/c8b9bab3/datasets.zip"
      ],
      "execution_count": null,
      "outputs": []
    },
    {
      "cell_type": "markdown",
      "metadata": {
        "id": "ky_VvGMZ2IKz"
      },
      "source": [
        "Загружаем архив со всеми данными"
      ]
    },
    {
      "cell_type": "code",
      "metadata": {
        "id": "Ns89xFsKv3Uq",
        "outputId": "f05768f2-ced7-47fe-afb5-47c28ae1641e",
        "colab": {
          "base_uri": "https://localhost:8080/",
          "height": 68
        }
      },
      "source": [
        "%%bash\n",
        "curl -o datasets.zip \"https://storage.yandexcloud.net/datasouls-ods/materials/c8b9bab3/datasets.zip\" \n",
        "unzip -o -q datasets.zip\n",
        "rm -f datasets.zip\n",
        "rm -r __MACOSX"
      ],
      "execution_count": null,
      "outputs": [
        {
          "output_type": "stream",
          "text": [
            "  % Total    % Received % Xferd  Average Speed   Time    Time     Time  Current\n",
            "                                 Dload  Upload   Total   Spent    Left  Speed\n",
            "\r  0     0    0     0    0     0      0      0 --:--:-- --:--:-- --:--:--     0\r  0  303M    0  3590    0     0   2194      0 40:20:28  0:00:01 40:20:27  2194\r  0  303M    0  131k    0     0  66730      0  1:19:34  0:00:02  1:19:32 66763\r  1  303M    1 3603k    0     0  1203k      0  0:04:18  0:00:02  0:04:16 1203k\r  6  303M    6 20.0M    0     0  5132k      0  0:01:00  0:00:03  0:00:57 5131k\r 12  303M   12 36.5M    0     0  7504k      0  0:00:41  0:00:04  0:00:37 7502k\r 17  303M   17 53.3M    0     0  9112k      0  0:00:34  0:00:05  0:00:29 12.2M\r 23  303M   23 70.1M    0     0  10.0M      0  0:00:30  0:00:06  0:00:24 14.0M\r 28  303M   28 86.8M    0     0  10.8M      0  0:00:27  0:00:07  0:00:20 16.6M\r 34  303M   34  103M    0     0  11.5M      0  0:00:26  0:00:08  0:00:18 16.7M\r 39  303M   39  120M    0     0  12.0M      0  0:00:25  0:00:09  0:00:16 16.7M\r 45  303M   45  137M    0     0  12.4M      0  0:00:24  0:00:10  0:00:14 16.7M\r 50  303M   50  153M    0     0  12.8M      0  0:00:23  0:00:11  0:00:12 16.7M\r 56  303M   56  170M    0     0  13.1M      0  0:00:23  0:00:12  0:00:11 16.7M\r 61  303M   61  187M    0     0  13.3M      0  0:00:22  0:00:13  0:00:09 16.7M\r 67  303M   67  204M    0     0  13.6M      0  0:00:22  0:00:14  0:00:08 16.7M\r 72  303M   72  220M    0     0  13.8M      0  0:00:22  0:00:15  0:00:07 16.7M\r 78  303M   78  237M    0     0  13.9M      0  0:00:21  0:00:16  0:00:05 16.7M\r 81  303M   81  248M    0     0  13.7M      0  0:00:22  0:00:18  0:00:04 15.5M\r 86  303M   86  261M    0     0  13.7M      0  0:00:22  0:00:18  0:00:04 14.8M\r 91  303M   91  278M    0     0  13.9M      0  0:00:21  0:00:19  0:00:02 14.8M\r 97  303M   97  294M    0     0  14.0M      0  0:00:21  0:00:20  0:00:01 14.8M\r100  303M  100  303M    0     0  14.1M      0  0:00:21  0:00:21 --:--:-- 14.6M\n"
          ],
          "name": "stderr"
        }
      ]
    },
    {
      "cell_type": "markdown",
      "metadata": {
        "id": "cAAlsfYWLxnV"
      },
      "source": [
        "Полный архив данных наблюдений на гидрологических постах сети Росгидромета за период с 1984 по 2018 гг. Содержит данные об уровнях воды, расходах, температуре воды, наблюдения за поверхностью воды (становление ледостава, вскрытие)"
      ]
    },
    {
      "cell_type": "code",
      "metadata": {
        "id": "5sh3Bkl4v3Uu"
      },
      "source": [
        "path_to_hydro = './datasets/hydro/'\n",
        "files_hydro = ! ls -1 $path_to_hydro"
      ],
      "execution_count": null,
      "outputs": []
    },
    {
      "cell_type": "code",
      "metadata": {
        "id": "FZT-8UB5v3Ux"
      },
      "source": [
        "# Ежедневные значения уровня воды на гидропостах\n",
        "files_hydro_daily = [f for f in files_hydro if '_daily' in f] "
      ],
      "execution_count": null,
      "outputs": []
    },
    {
      "cell_type": "code",
      "metadata": {
        "id": "4o_emref_elD",
        "outputId": "472406ce-e750-468a-d62d-517d584c1540",
        "colab": {
          "base_uri": "https://localhost:8080/",
          "height": 34
        }
      },
      "source": [
        "len(files_hydro_daily)"
      ],
      "execution_count": null,
      "outputs": [
        {
          "output_type": "execute_result",
          "data": {
            "text/plain": [
              "198"
            ]
          },
          "metadata": {
            "tags": []
          },
          "execution_count": 59
        }
      ]
    },
    {
      "cell_type": "code",
      "metadata": {
        "id": "bTqyuq-Ev3U0"
      },
      "source": [
        "%%time\n",
        "# Собираем в pandas dataframe \n",
        "daily = []\n",
        "for filename in files_hydro_daily:\n",
        "    tmp = pd.read_csv(path_to_hydro + filename, \\\n",
        "    encoding = 'cp1251', sep = ';', skiprows = 2, index_col = False, \\\n",
        "    names = ['date','stage_avg','stage_min','stage_max','temp','water_code'])\n",
        "    tmp['id'] = int(filename.replace('_daily.csv', ''))\n",
        "    daily.append(tmp)\n",
        "daily = pd.concat(daily)"
      ],
      "execution_count": null,
      "outputs": []
    },
    {
      "cell_type": "code",
      "metadata": {
        "id": "o8kXzswph6M7",
        "outputId": "516e72e3-8813-493a-a963-10b0c73de7ae",
        "colab": {
          "base_uri": "https://localhost:8080/",
          "height": 255
        }
      },
      "source": [
        "daily.info()"
      ],
      "execution_count": null,
      "outputs": [
        {
          "output_type": "stream",
          "text": [
            "<class 'pandas.core.frame.DataFrame'>\n",
            "Int64Index: 2201371 entries, 0 to 5630\n",
            "Data columns (total 7 columns):\n",
            " #   Column      Dtype \n",
            "---  ------      ----- \n",
            " 0   date        object\n",
            " 1   stage_avg   object\n",
            " 2   stage_min   object\n",
            " 3   stage_max   object\n",
            " 4   temp        object\n",
            " 5   water_code  object\n",
            " 6   id          int64 \n",
            "dtypes: int64(1), object(6)\n",
            "memory usage: 134.4+ MB\n"
          ],
          "name": "stdout"
        }
      ]
    },
    {
      "cell_type": "code",
      "metadata": {
        "id": "XY3tt3ZVQ7fs"
      },
      "source": [
        "# Переиндексируем:\n",
        "daily.reset_index(drop=True, inplace=True)"
      ],
      "execution_count": null,
      "outputs": []
    },
    {
      "cell_type": "code",
      "metadata": {
        "id": "6rloZFU4RIfM"
      },
      "source": [
        "# Очищаем от мусора + приводим к нужным типам\n",
        "\n",
        "daily['date'] = pd.to_datetime(daily['date'], format='%d.%m.%Y')\n",
        "\n",
        "daily.loc[daily['stage_avg'] == '       ', 'stage_avg'] = np.nan ## иначе из string нельзя перевести в float\n",
        "daily['stage_avg'] = daily['stage_avg'].astype('float16')\n",
        "\n",
        "daily.loc[daily['stage_min'] == '       ', 'stage_min'] = np.nan ## иначе из string нельзя перевести в float\n",
        "daily['stage_min'] = daily['stage_min'].astype('float16')\n",
        "\n",
        "daily.loc[daily['stage_max'] == '       ', 'stage_max'] = np.nan ## иначе из string нельзя перевести в float\n",
        "daily.loc[daily['stage_max'] =='****   ', 'stage_max'] = np.nan ## иначе из string нельзя перевести в float\n",
        "daily['stage_max'] = daily['stage_max'].astype('float16')"
      ],
      "execution_count": null,
      "outputs": []
    },
    {
      "cell_type": "code",
      "metadata": {
        "id": "cbwtzKdlSjkk"
      },
      "source": [
        "daily['temp'] = daily['temp'].astype('str')\n",
        "daily['temp'] = daily['temp'].map(lambda x: x.strip())\n",
        "daily.loc[~daily['temp'].str.contains('\\.'), 'temp'] = np.nan\n",
        "daily['temp'] = daily[~daily['temp'].isnull()]['temp'].map(lambda x: x.split('.')[0] + '.' + x.split('.')[1][:2])\n",
        "daily['temp'] = daily['temp'].astype('float64')"
      ],
      "execution_count": null,
      "outputs": []
    },
    {
      "cell_type": "code",
      "metadata": {
        "id": "A4bSYNziXTo_",
        "outputId": "c34731d1-d99f-4c87-cd74-1d95ce6063ee",
        "colab": {
          "base_uri": "https://localhost:8080/",
          "height": 255
        }
      },
      "source": [
        "daily.info()"
      ],
      "execution_count": null,
      "outputs": [
        {
          "output_type": "stream",
          "text": [
            "<class 'pandas.core.frame.DataFrame'>\n",
            "RangeIndex: 2201371 entries, 0 to 2201370\n",
            "Data columns (total 7 columns):\n",
            " #   Column      Dtype         \n",
            "---  ------      -----         \n",
            " 0   date        datetime64[ns]\n",
            " 1   stage_avg   float16       \n",
            " 2   stage_min   float16       \n",
            " 3   stage_max   float16       \n",
            " 4   temp        float64       \n",
            " 5   water_code  object        \n",
            " 6   id          int64         \n",
            "dtypes: datetime64[ns](1), float16(3), float64(1), int64(1), object(1)\n",
            "memory usage: 79.8+ MB\n"
          ],
          "name": "stdout"
        }
      ]
    },
    {
      "cell_type": "code",
      "metadata": {
        "id": "cAf4_By6b1-8",
        "outputId": "9313676c-224c-47ab-d66f-7217db64dd2a",
        "colab": {
          "base_uri": "https://localhost:8080/",
          "height": 320
        }
      },
      "source": [
        "date_start, date_end = '01-01-2017', '31-12-2017'\n",
        "id = 6299\n",
        "\n",
        "plt.figure(figsize = (20, 5))\n",
        "sub_condition  = daily.date.between(date_start, date_end)&(daily.id == id)\n",
        "\n",
        "stages = ['stage_avg', 'stage_min', 'stage_max']\n",
        "\n",
        "plt.figure(figsize = (20, 5))\n",
        "plt.title('Day-by-day stages')\n",
        "for stage in stages:\n",
        "  plt.plot(daily[sub_condition][['date'] + [stage]].set_index('date'), label = stage)\n",
        "  plt.legend()\n",
        "plt.show()\n",
        "\n",
        "plt.figure(figsize = (20,3))\n",
        "plt.title('Temperature (Celsus)')\n",
        "plt.plot(daily[sub_condition][['date', 'temp']].set_index('date'))\n",
        "plt.show()\n"
      ],
      "execution_count": null,
      "outputs": [
        {
          "output_type": "display_data",
          "data": {
            "text/plain": [
              "<Figure size 1440x360 with 0 Axes>"
            ]
          },
          "metadata": {
            "tags": []
          }
        },
        {
          "output_type": "display_data",
          "data": {
            "image/png": "[encoded data removed]",
            "text/plain": [
              "<Figure size 1440x360 with 1 Axes>"
            ]
          },
          "metadata": {
            "tags": [],
            "needs_background": "light"
          }
        },
        {
          "output_type": "display_data",
          "data": {
            "image/png": "[encoded data removed]",
            "text/plain": [
              "<Figure size 1440x216 with 1 Axes>"
            ]
          },
          "metadata": {
            "tags": [],
            "needs_background": "light"
          }
        }
      ]
    },
    {
      "cell_type": "markdown",
      "metadata": {
        "id": "mdl-XZl4v3VE"
      },
      "source": [
        "2. Периодические значения (раз в 5 дней) высоты снега и толщины льда на гидропостах"
      ]
    },
    {
      "cell_type": "code",
      "metadata": {
        "id": "BpNnM3wdv3VF",
        "outputId": "fb58e945-1aa4-4879-894f-f29b049adda1",
        "colab": {
          "base_uri": "https://localhost:8080/",
          "height": 68
        }
      },
      "source": [
        "%%time\n",
        "files_ice = [f for f in files_hydro if '_ice' in f]\n",
        "print(len(files_ice))\n",
        "# Собираем в pandas dataframe \n",
        "ice = []\n",
        "for filename in files_ice:\n",
        "    tmp = pd.read_csv(path_to_hydro + filename, \\\n",
        "    encoding = 'cp1251', sep = ';', skiprows = 2, index_col = False, \\\n",
        "    names = ['date','ice_high','snow_high','place_code'])\n",
        "    tmp['id'] = int(filename.replace('_ice.csv', ''))\n",
        "    ice.append(tmp)\n",
        "ice = pd.concat(ice)"
      ],
      "execution_count": null,
      "outputs": [
        {
          "output_type": "stream",
          "text": [
            "181\n",
            "CPU times: user 706 ms, sys: 35.9 ms, total: 741 ms\n",
            "Wall time: 742 ms\n"
          ],
          "name": "stdout"
        }
      ]
    },
    {
      "cell_type": "code",
      "metadata": {
        "id": "q970Zdw5-RfP"
      },
      "source": [
        "# Приводим к нужным типам\n",
        "\n",
        "ice['date'] = pd.to_datetime(ice['date'], format='%d.%m.%Y')\n",
        "\n",
        "ice['ice_high'] = ice['ice_high'].astype('str')\n",
        "ice['ice_high'] = ice['ice_high'].map(lambda x: x.strip())\n",
        "ice.loc[ice['ice_high'] == '', 'ice_high'] = np.nan\n",
        "ice['ice_high'] = ice['ice_high'].astype('float64')\n",
        "\n",
        "ice['snow_high'] = ice['snow_high'].astype('str')\n",
        "ice['snow_high'] = ice['snow_high'].map(lambda x: x.strip())\n",
        "ice.loc[ice['snow_high'] == '', 'snow_high'] = np.nan\n",
        "ice['snow_high'] = ice['snow_high'].astype('float64')\n",
        "\n",
        "ice['place_code'] = ice['place_code'].astype('int16')"
      ],
      "execution_count": null,
      "outputs": []
    },
    {
      "cell_type": "code",
      "metadata": {
        "id": "x3-u8HQz-VdJ",
        "outputId": "438ae4c6-677e-481f-ba96-7f0679dad7b7",
        "colab": {
          "base_uri": "https://localhost:8080/",
          "height": 51
        }
      },
      "source": [
        "%%time\n",
        "# Сортируеи + переиндексируем:\n",
        "ice.sort_values( ['id', 'date'], inplace = True)\n",
        "ice.reset_index(drop=True, inplace=True)"
      ],
      "execution_count": null,
      "outputs": [
        {
          "output_type": "stream",
          "text": [
            "CPU times: user 42.1 ms, sys: 0 ns, total: 42.1 ms\n",
            "Wall time: 45.4 ms\n"
          ],
          "name": "stdout"
        }
      ]
    },
    {
      "cell_type": "code",
      "metadata": {
        "id": "1edubw3NH2ub",
        "outputId": "6b0372da-83ee-4ed5-eccf-699c43f90ecf",
        "colab": {
          "base_uri": "https://localhost:8080/",
          "height": 221
        }
      },
      "source": [
        "ice.info()"
      ],
      "execution_count": null,
      "outputs": [
        {
          "output_type": "stream",
          "text": [
            "<class 'pandas.core.frame.DataFrame'>\n",
            "RangeIndex: 128389 entries, 0 to 128388\n",
            "Data columns (total 5 columns):\n",
            " #   Column      Non-Null Count   Dtype         \n",
            "---  ------      --------------   -----         \n",
            " 0   date        128389 non-null  datetime64[ns]\n",
            " 1   ice_high    76688 non-null   float64       \n",
            " 2   snow_high   67951 non-null   float64       \n",
            " 3   place_code  128389 non-null  int16         \n",
            " 4   id          128389 non-null  int64         \n",
            "dtypes: datetime64[ns](1), float64(2), int16(1), int64(1)\n",
            "memory usage: 4.2 MB\n"
          ],
          "name": "stdout"
        }
      ]
    },
    {
      "cell_type": "code",
      "metadata": {
        "id": "PljO_TPC-YYg",
        "outputId": "e7d88f5e-dfdd-4cf7-8e6b-09d17f6bb413",
        "colab": {
          "base_uri": "https://localhost:8080/",
          "height": 437
        }
      },
      "source": [
        "date_start, date_end = '01-01-2000', '31-12-2020'\n",
        "id = 6453\n",
        "place_code = 13\n",
        "\n",
        "sub_condition  = ice.date.between(date_start, date_end)&(ice.id == id)&(ice.place_code == 14)\n",
        "\n",
        "plt.figure(figsize = (20,3))\n",
        "plt.title('Ice high (sm)')\n",
        "plt.plot(ice[sub_condition][['date', 'ice_high']].dropna().set_index('date'))\n",
        "plt.show()\n",
        "\n",
        "plt.figure(figsize = (20,3))\n",
        "plt.title('Snow high (sm)')\n",
        "plt.plot(ice[sub_condition][['date', 'snow_high']].dropna().set_index('date'))\n",
        "plt.show()\n"
      ],
      "execution_count": null,
      "outputs": [
        {
          "output_type": "display_data",
          "data": {
            "image/png": "[encoded data removed]",
            "text/plain": [
              "<Figure size 1440x216 with 1 Axes>"
            ]
          },
          "metadata": {
            "tags": [],
            "needs_background": "light"
          }
        },
        {
          "output_type": "display_data",
          "data": {
            "image/png": "[encoded data removed]",
            "text/plain": [
              "<Figure size 1440x216 with 1 Axes>"
            ]
          },
          "metadata": {
            "tags": [],
            "needs_background": "light"
          }
        }
      ]
    },
    {
      "cell_type": "code",
      "metadata": {
        "id": "39K6D4xtJA-f",
        "outputId": "ba039bcd-484a-407b-918c-554543b1484f",
        "colab": {
          "base_uri": "https://localhost:8080/",
          "height": 136
        }
      },
      "source": [
        "%%time\n",
        "# Выгружаем готовые фреймы в pkl:\n",
        "\n",
        "daily.to_pickle('daily.pkl')\n",
        "ice.to_pickle('ice.pkl')\n",
        "\n",
        "!ls -l --block-size=M"
      ],
      "execution_count": null,
      "outputs": [
        {
          "output_type": "stream",
          "text": [
            "total 78M\n",
            "-rw-r--r-- 1 root root 74M Oct 22 16:33 daily.pkl\n",
            "drwxr-xr-x 8 root root  1M Oct 13 05:07 datasets\n",
            "-rw-r--r-- 1 root root  5M Oct 22 16:33 ice.pkl\n",
            "drwxr-xr-x 1 root root  1M Oct 14 16:31 sample_data\n",
            "CPU times: user 176 ms, sys: 128 ms, total: 304 ms\n",
            "Wall time: 425 ms\n"
          ],
          "name": "stdout"
        }
      ]
    },
    {
      "cell_type": "markdown",
      "metadata": {
        "id": "CvNrDtnR_RO-"
      },
      "source": [
        "## Датафрейм daily\n",
        "\n",
        "Cобран из 198 csv-файлов \n",
        "\n",
        "Содержат ежедневные значения уровня воды на гидрологический постах за период с 1984 по 2018 гг.\n",
        "\n",
        "date - дата измерений\n",
        "\n",
        "stage_avg - средний уровень воды за день (см.)\n",
        "\n",
        "stage_min - минимальный уровень воды за день (см.)\n",
        "\n",
        "stage_max – максимальный уровень воды за день (см.)\n",
        "\n",
        "temp - средняя температура воды за день (°C)\n",
        "\n",
        "water_code - код состояния водного объекта\n",
        "\n",
        "id - номер гидрологического поста\n",
        "\n",
        "## Датафрейм ice\n",
        "\n",
        "Cобран из 181 csv-файлов \n",
        "\n",
        "Содержит периодические значения (раз в 5 дней) высоты снега и толщины льда на гидрологическом посте\n",
        "\n",
        "date datetime64[ns] - дата измерения\n",
        "\n",
        "ice_high Толщина льда (см)\n",
        "\n",
        "snow_high Высота снега (см)\n",
        "\n",
        "place_code'Место измер - код места ледовых измерений\n",
        "\n",
        "id - номер гидрологического поста"
      ]
    },
    {
      "cell_type": "markdown",
      "metadata": {
        "id": "GvtLaoOgcsMb"
      },
      "source": [
        "#Михаил - meteo_new dataset"
      ]
    },
    {
      "cell_type": "code",
      "metadata": {
        "id": "tEwaOlPSduxK"
      },
      "source": [
        "# Получаем данные из папки\n",
        "path_to_meteo_new = './datasets/meteo_new/'\n",
        "files_meteo_new = ! ls -1 $path_to_meteo_new"
      ],
      "execution_count": null,
      "outputs": []
    },
    {
      "cell_type": "code",
      "metadata": {
        "id": "lxkwzpUEgUBO"
      },
      "source": [
        "# Убираем два лишних файла\n",
        "files_meteo_new = files_meteo_new[:-2]"
      ],
      "execution_count": null,
      "outputs": []
    },
    {
      "cell_type": "code",
      "metadata": {
        "id": "zk_13v2DggeB",
        "outputId": "0b172942-ad2f-4a9e-e352-d15d9554c6be",
        "colab": {
          "base_uri": "https://localhost:8080/",
          "height": 51
        }
      },
      "source": [
        "%%time\n",
        "# Собираем в pandas dataframe \n",
        "meteo_new_df = []\n",
        "for filename in files_meteo_new:\n",
        "    tmp = pd.read_csv(path_to_meteo_new + filename)\n",
        "    meteo_new_df.append(tmp)\n",
        "meteo_new_df = pd.concat(meteo_new_df)"
      ],
      "execution_count": null,
      "outputs": [
        {
          "output_type": "stream",
          "text": [
            "CPU times: user 13.2 s, sys: 1.09 s, total: 14.3 s\n",
            "Wall time: 14.3 s\n"
          ],
          "name": "stdout"
        }
      ]
    },
    {
      "cell_type": "code",
      "metadata": {
        "id": "drzH4jdWiiF3"
      },
      "source": [
        "# Выбрасываем лишние колонки\n",
        "meteo_new_df.drop(meteo_new_df.columns[0], axis=1, inplace=True)"
      ],
      "execution_count": null,
      "outputs": []
    },
    {
      "cell_type": "code",
      "metadata": {
        "id": "PXYkW67yNJuL",
        "outputId": "64dcc557-76ed-49dc-e0b5-7a490cbf2c50",
        "colab": {
          "base_uri": "https://localhost:8080/",
          "height": 1000
        }
      },
      "source": [
        "meteo_new_df.info()"
      ],
      "execution_count": null,
      "outputs": [
        {
          "output_type": "stream",
          "text": [
            "<class 'pandas.core.frame.DataFrame'>\n",
            "Int64Index: 3580001 entries, 0 to 105188\n",
            "Data columns (total 57 columns):\n",
            " #   Column                                                   Dtype  \n",
            "---  ------                                                   -----  \n",
            " 0   stationNumber                                            int64  \n",
            " 1   year                                                     int64  \n",
            " 2   month                                                    int64  \n",
            " 3   day                                                      int64  \n",
            " 4   time                                                     int64  \n",
            " 5   localYear                                                int64  \n",
            " 6   localMonth                                               int64  \n",
            " 7   localDay                                                 int64  \n",
            " 8   localTimePeriod                                          int64  \n",
            " 9   timePeriodNum                                            int64  \n",
            " 10  localTime                                                int64  \n",
            " 11  tz                                                       int64  \n",
            " 12  startMeteoDay                                            int64  \n",
            " 13  horizontalVisibility                                     float64\n",
            " 14  horizontalVisibilityQuality                              int64  \n",
            " 15  horizontalVisibilitySign                                 float64\n",
            " 16  cloudCoverTotal                                          float64\n",
            " 17  cloudCoverTotalQuality                                   int64  \n",
            " 18  pastWeather                                              float64\n",
            " 19  pastWeatherQuality                                       int64  \n",
            " 20  presentWeather                                           float64\n",
            " 21  presentWeatherQuality                                    int64  \n",
            " 22  windDirection                                            float64\n",
            " 23  windDirectionQuality                                     int64  \n",
            " 24  windSpeed                                                float64\n",
            " 25  windSpeedQuality                                         int64  \n",
            " 26  windSpeedSign                                            int64  \n",
            " 27  maximumWindGustSpeed                                     float64\n",
            " 28  maximumWindGustSpeedQuality                              int64  \n",
            " 29  maximumWindGustSpeedSign                                 int64  \n",
            " 30  totalAccumulatedPrecipitation                            float64\n",
            " 31  totalAccumulatedPrecipitationQuality                     int64  \n",
            " 32  soilTemperature                                          float64\n",
            " 33  soilTemperatureQuality                                   int64  \n",
            " 34  groundMinimumTemperature                                 float64\n",
            " 35  groundMinimumTemperatureQuality                          int64  \n",
            " 36  airTemperature                                           float64\n",
            " 37  airTemperatureQuality                                    int64  \n",
            " 38  minimumTemperatureAtHeightAndOverPeriodSpecified         float64\n",
            " 39  minimumTemperatureAtHeightAndOverPeriodSpecifiedQuality  int64  \n",
            " 40  maximumTemperatureOverPeriodSpecified                    float64\n",
            " 41  maximumTemperatureOverPeriodSpecifiedQuality             int64  \n",
            " 42  relativeHumidity                                         float64\n",
            " 43  relativeHumidityQuality                                  int64  \n",
            " 44  vapourPressure                                           float64\n",
            " 45  vapourPressureQuality                                    int64  \n",
            " 46  dewpointTemperature                                      float64\n",
            " 47  dewpointTemperatureQuality                               int64  \n",
            " 48  pressure                                                 float64\n",
            " 49  pressureQuality                                          int64  \n",
            " 50  pressureReducedToMeanSeaLevel                            float64\n",
            " 51  pressureReducedToMeanSeaLevelQuality                     int64  \n",
            " 52  characteristicOfPressureTendency                         float64\n",
            " 53  characteristicOfPressureTendencyQuality                  int64  \n",
            " 54  HourPressureChange3                                      float64\n",
            " 55  HourPressureChange3Quality                               int64  \n",
            " 56  stationId                                                int64  \n",
            "dtypes: float64(21), int64(36)\n",
            "memory usage: 1.5 GB\n"
          ],
          "name": "stdout"
        }
      ]
    },
    {
      "cell_type": "code",
      "metadata": {
        "id": "qxrTw7gGNjJa"
      },
      "source": [
        "# Связываем колонки с временем и датой в одну колонку\n",
        "meteo_new_df[\"date\"] = meteo_new_df[\"day\"].astype(str) + \"/\" + \\\n",
        "                       meteo_new_df[\"month\"].astype(str) + \"/\" + \\\n",
        "                       meteo_new_df[\"year\"].astype(str) + \" \" + \\\n",
        "                       meteo_new_df[\"time\"].astype(str) + \":00:00\""
      ],
      "execution_count": null,
      "outputs": []
    },
    {
      "cell_type": "code",
      "metadata": {
        "id": "qWa8bieCYyvG"
      },
      "source": [
        "# Связываем колонки с локальным временем и датой в одну колонку\n",
        "meteo_new_df[\"localDate\"] = meteo_new_df[\"localDay\"].astype(str) + \"/\" + \\\n",
        "                            meteo_new_df[\"localMonth\"].astype(str) + \"/\" + \\\n",
        "                            meteo_new_df[\"localYear\"].astype(str) + \" \" + \\\n",
        "                            meteo_new_df[\"localTimePeriod\"].astype(str) + \":00:00\""
      ],
      "execution_count": null,
      "outputs": []
    },
    {
      "cell_type": "code",
      "metadata": {
        "id": "khN4E9cUPYpU",
        "outputId": "9b341db2-8934-441d-f416-af6b5db96cb6",
        "colab": {
          "base_uri": "https://localhost:8080/",
          "height": 52
        }
      },
      "source": [
        "# Преобразовываем связанные колонки в datetime (очень медленно, нужна оптимизация)\n",
        "%%time\n",
        "meteo_new_df['date']= pd.to_datetime(meteo_new_df['date'])\n",
        "meteo_new_df['localDate']= pd.to_datetime(meteo_new_df['localDate'])"
      ],
      "execution_count": null,
      "outputs": [
        {
          "output_type": "stream",
          "text": [
            "CPU times: user 10min 40s, sys: 87.4 ms, total: 10min 40s\n",
            "Wall time: 10min 41s\n"
          ],
          "name": "stdout"
        }
      ]
    },
    {
      "cell_type": "code",
      "metadata": {
        "id": "aqe8m07-O3hs"
      },
      "source": [
        "# Выбрасываем теперь уже лишние колонки\n",
        "meteo_new_df.drop(['day', 'localDay', 'month', 'localMonth', 'year', 'localYear', 'time', 'localTimePeriod'], axis='columns', inplace=True)"
      ],
      "execution_count": null,
      "outputs": []
    },
    {
      "cell_type": "code",
      "metadata": {
        "id": "oicofdKXgfZO",
        "outputId": "41e744d1-3e84-4a96-f9e6-20c9110a1d70",
        "colab": {
          "base_uri": "https://localhost:8080/",
          "height": 760
        }
      },
      "source": [
        "meteo_new_df"
      ],
      "execution_count": null,
      "outputs": [
        {
          "output_type": "execute_result",
          "data": {
            "text/html": [
              "<div>\n",
              "<style scoped>\n",
              "    .dataframe tbody tr th:only-of-type {\n",
              "        vertical-align: middle;\n",
              "    }\n",
              "\n",
              "    .dataframe tbody tr th {\n",
              "        vertical-align: top;\n",
              "    }\n",
              "\n",
              "    .dataframe thead th {\n",
              "        text-align: right;\n",
              "    }\n",
              "</style>\n",
              "<table border=\"1\" class=\"dataframe\">\n",
              "  <thead>\n",
              "    <tr style=\"text-align: right;\">\n",
              "      <th></th>\n",
              "      <th>stationNumber</th>\n",
              "      <th>timePeriodNum</th>\n",
              "      <th>localTime</th>\n",
              "      <th>tz</th>\n",
              "      <th>startMeteoDay</th>\n",
              "      <th>horizontalVisibility</th>\n",
              "      <th>horizontalVisibilityQuality</th>\n",
              "      <th>horizontalVisibilitySign</th>\n",
              "      <th>cloudCoverTotal</th>\n",
              "      <th>cloudCoverTotalQuality</th>\n",
              "      <th>pastWeather</th>\n",
              "      <th>pastWeatherQuality</th>\n",
              "      <th>presentWeather</th>\n",
              "      <th>presentWeatherQuality</th>\n",
              "      <th>windDirection</th>\n",
              "      <th>windDirectionQuality</th>\n",
              "      <th>windSpeed</th>\n",
              "      <th>windSpeedQuality</th>\n",
              "      <th>windSpeedSign</th>\n",
              "      <th>maximumWindGustSpeed</th>\n",
              "      <th>maximumWindGustSpeedQuality</th>\n",
              "      <th>maximumWindGustSpeedSign</th>\n",
              "      <th>totalAccumulatedPrecipitation</th>\n",
              "      <th>totalAccumulatedPrecipitationQuality</th>\n",
              "      <th>soilTemperature</th>\n",
              "      <th>soilTemperatureQuality</th>\n",
              "      <th>groundMinimumTemperature</th>\n",
              "      <th>groundMinimumTemperatureQuality</th>\n",
              "      <th>airTemperature</th>\n",
              "      <th>airTemperatureQuality</th>\n",
              "      <th>minimumTemperatureAtHeightAndOverPeriodSpecified</th>\n",
              "      <th>minimumTemperatureAtHeightAndOverPeriodSpecifiedQuality</th>\n",
              "      <th>maximumTemperatureOverPeriodSpecified</th>\n",
              "      <th>maximumTemperatureOverPeriodSpecifiedQuality</th>\n",
              "      <th>relativeHumidity</th>\n",
              "      <th>relativeHumidityQuality</th>\n",
              "      <th>vapourPressure</th>\n",
              "      <th>vapourPressureQuality</th>\n",
              "      <th>dewpointTemperature</th>\n",
              "      <th>dewpointTemperatureQuality</th>\n",
              "      <th>pressure</th>\n",
              "      <th>pressureQuality</th>\n",
              "      <th>pressureReducedToMeanSeaLevel</th>\n",
              "      <th>pressureReducedToMeanSeaLevelQuality</th>\n",
              "      <th>characteristicOfPressureTendency</th>\n",
              "      <th>characteristicOfPressureTendencyQuality</th>\n",
              "      <th>HourPressureChange3</th>\n",
              "      <th>HourPressureChange3Quality</th>\n",
              "      <th>stationId</th>\n",
              "      <th>date</th>\n",
              "      <th>localDate</th>\n",
              "    </tr>\n",
              "  </thead>\n",
              "  <tbody>\n",
              "    <tr>\n",
              "      <th>0</th>\n",
              "      <td>31915</td>\n",
              "      <td>5</td>\n",
              "      <td>10</td>\n",
              "      <td>9</td>\n",
              "      <td>19</td>\n",
              "      <td>98.0</td>\n",
              "      <td>0</td>\n",
              "      <td>0.0</td>\n",
              "      <td>0.0</td>\n",
              "      <td>0</td>\n",
              "      <td>0.0</td>\n",
              "      <td>0</td>\n",
              "      <td>2.0</td>\n",
              "      <td>0</td>\n",
              "      <td>270.0</td>\n",
              "      <td>0</td>\n",
              "      <td>3.0</td>\n",
              "      <td>0</td>\n",
              "      <td>0</td>\n",
              "      <td>4.0</td>\n",
              "      <td>0</td>\n",
              "      <td>0</td>\n",
              "      <td>0.0</td>\n",
              "      <td>5</td>\n",
              "      <td>-22.0</td>\n",
              "      <td>0</td>\n",
              "      <td>-22.0</td>\n",
              "      <td>0</td>\n",
              "      <td>-17.9</td>\n",
              "      <td>0</td>\n",
              "      <td>-18.7</td>\n",
              "      <td>0</td>\n",
              "      <td>-17.8</td>\n",
              "      <td>0</td>\n",
              "      <td>50.0</td>\n",
              "      <td>0</td>\n",
              "      <td>0.80</td>\n",
              "      <td>0</td>\n",
              "      <td>-25.8</td>\n",
              "      <td>0</td>\n",
              "      <td>995.3</td>\n",
              "      <td>0</td>\n",
              "      <td>1023.7</td>\n",
              "      <td>0</td>\n",
              "      <td>2.0</td>\n",
              "      <td>0</td>\n",
              "      <td>0.7</td>\n",
              "      <td>0</td>\n",
              "      <td>4443141</td>\n",
              "      <td>1984-01-01 00:00:00</td>\n",
              "      <td>1984-01-01 03:00:00</td>\n",
              "    </tr>\n",
              "    <tr>\n",
              "      <th>1</th>\n",
              "      <td>31915</td>\n",
              "      <td>6</td>\n",
              "      <td>13</td>\n",
              "      <td>9</td>\n",
              "      <td>19</td>\n",
              "      <td>98.0</td>\n",
              "      <td>0</td>\n",
              "      <td>0.0</td>\n",
              "      <td>4.0</td>\n",
              "      <td>0</td>\n",
              "      <td>0.0</td>\n",
              "      <td>0</td>\n",
              "      <td>3.0</td>\n",
              "      <td>0</td>\n",
              "      <td>315.0</td>\n",
              "      <td>0</td>\n",
              "      <td>4.0</td>\n",
              "      <td>0</td>\n",
              "      <td>0</td>\n",
              "      <td>6.0</td>\n",
              "      <td>0</td>\n",
              "      <td>0</td>\n",
              "      <td>0.0</td>\n",
              "      <td>5</td>\n",
              "      <td>-9.0</td>\n",
              "      <td>0</td>\n",
              "      <td>-9.0</td>\n",
              "      <td>0</td>\n",
              "      <td>-12.1</td>\n",
              "      <td>0</td>\n",
              "      <td>-17.6</td>\n",
              "      <td>0</td>\n",
              "      <td>-11.9</td>\n",
              "      <td>0</td>\n",
              "      <td>56.0</td>\n",
              "      <td>0</td>\n",
              "      <td>1.10</td>\n",
              "      <td>0</td>\n",
              "      <td>-19.3</td>\n",
              "      <td>0</td>\n",
              "      <td>995.7</td>\n",
              "      <td>0</td>\n",
              "      <td>1023.5</td>\n",
              "      <td>0</td>\n",
              "      <td>2.0</td>\n",
              "      <td>0</td>\n",
              "      <td>0.4</td>\n",
              "      <td>0</td>\n",
              "      <td>4443141</td>\n",
              "      <td>1984-01-01 03:00:00</td>\n",
              "      <td>1984-01-01 06:00:00</td>\n",
              "    </tr>\n",
              "    <tr>\n",
              "      <th>2</th>\n",
              "      <td>31915</td>\n",
              "      <td>7</td>\n",
              "      <td>16</td>\n",
              "      <td>9</td>\n",
              "      <td>19</td>\n",
              "      <td>98.0</td>\n",
              "      <td>0</td>\n",
              "      <td>0.0</td>\n",
              "      <td>7.0</td>\n",
              "      <td>0</td>\n",
              "      <td>1.0</td>\n",
              "      <td>0</td>\n",
              "      <td>2.0</td>\n",
              "      <td>0</td>\n",
              "      <td>315.0</td>\n",
              "      <td>0</td>\n",
              "      <td>3.0</td>\n",
              "      <td>0</td>\n",
              "      <td>0</td>\n",
              "      <td>8.0</td>\n",
              "      <td>0</td>\n",
              "      <td>0</td>\n",
              "      <td>0.0</td>\n",
              "      <td>5</td>\n",
              "      <td>-13.0</td>\n",
              "      <td>0</td>\n",
              "      <td>-13.0</td>\n",
              "      <td>0</td>\n",
              "      <td>-12.0</td>\n",
              "      <td>0</td>\n",
              "      <td>-12.5</td>\n",
              "      <td>0</td>\n",
              "      <td>-11.2</td>\n",
              "      <td>0</td>\n",
              "      <td>52.0</td>\n",
              "      <td>0</td>\n",
              "      <td>1.20</td>\n",
              "      <td>0</td>\n",
              "      <td>-20.3</td>\n",
              "      <td>0</td>\n",
              "      <td>995.8</td>\n",
              "      <td>0</td>\n",
              "      <td>1023.6</td>\n",
              "      <td>0</td>\n",
              "      <td>2.0</td>\n",
              "      <td>0</td>\n",
              "      <td>0.1</td>\n",
              "      <td>0</td>\n",
              "      <td>4443141</td>\n",
              "      <td>1984-01-01 06:00:00</td>\n",
              "      <td>1984-01-01 09:00:00</td>\n",
              "    </tr>\n",
              "    <tr>\n",
              "      <th>3</th>\n",
              "      <td>31915</td>\n",
              "      <td>8</td>\n",
              "      <td>19</td>\n",
              "      <td>9</td>\n",
              "      <td>19</td>\n",
              "      <td>59.0</td>\n",
              "      <td>0</td>\n",
              "      <td>0.0</td>\n",
              "      <td>10.0</td>\n",
              "      <td>0</td>\n",
              "      <td>7.0</td>\n",
              "      <td>0</td>\n",
              "      <td>71.0</td>\n",
              "      <td>0</td>\n",
              "      <td>70.0</td>\n",
              "      <td>0</td>\n",
              "      <td>1.0</td>\n",
              "      <td>0</td>\n",
              "      <td>0</td>\n",
              "      <td>5.0</td>\n",
              "      <td>0</td>\n",
              "      <td>0</td>\n",
              "      <td>0.0</td>\n",
              "      <td>0</td>\n",
              "      <td>-20.0</td>\n",
              "      <td>0</td>\n",
              "      <td>-20.0</td>\n",
              "      <td>0</td>\n",
              "      <td>-17.1</td>\n",
              "      <td>0</td>\n",
              "      <td>-17.1</td>\n",
              "      <td>0</td>\n",
              "      <td>-12.0</td>\n",
              "      <td>0</td>\n",
              "      <td>82.0</td>\n",
              "      <td>0</td>\n",
              "      <td>0.30</td>\n",
              "      <td>0</td>\n",
              "      <td>-19.7</td>\n",
              "      <td>0</td>\n",
              "      <td>997.5</td>\n",
              "      <td>0</td>\n",
              "      <td>1025.9</td>\n",
              "      <td>0</td>\n",
              "      <td>2.0</td>\n",
              "      <td>0</td>\n",
              "      <td>1.7</td>\n",
              "      <td>0</td>\n",
              "      <td>4443141</td>\n",
              "      <td>1984-01-01 09:00:00</td>\n",
              "      <td>1984-01-01 12:00:00</td>\n",
              "    </tr>\n",
              "    <tr>\n",
              "      <th>4</th>\n",
              "      <td>31915</td>\n",
              "      <td>1</td>\n",
              "      <td>22</td>\n",
              "      <td>9</td>\n",
              "      <td>19</td>\n",
              "      <td>70.0</td>\n",
              "      <td>0</td>\n",
              "      <td>0.0</td>\n",
              "      <td>3.0</td>\n",
              "      <td>0</td>\n",
              "      <td>7.0</td>\n",
              "      <td>0</td>\n",
              "      <td>1.0</td>\n",
              "      <td>0</td>\n",
              "      <td>270.0</td>\n",
              "      <td>0</td>\n",
              "      <td>3.0</td>\n",
              "      <td>0</td>\n",
              "      <td>0</td>\n",
              "      <td>4.0</td>\n",
              "      <td>0</td>\n",
              "      <td>0</td>\n",
              "      <td>0.0</td>\n",
              "      <td>0</td>\n",
              "      <td>-23.0</td>\n",
              "      <td>0</td>\n",
              "      <td>-23.0</td>\n",
              "      <td>0</td>\n",
              "      <td>-20.5</td>\n",
              "      <td>0</td>\n",
              "      <td>-20.6</td>\n",
              "      <td>0</td>\n",
              "      <td>-17.1</td>\n",
              "      <td>0</td>\n",
              "      <td>89.0</td>\n",
              "      <td>0</td>\n",
              "      <td>0.10</td>\n",
              "      <td>0</td>\n",
              "      <td>-21.7</td>\n",
              "      <td>0</td>\n",
              "      <td>998.8</td>\n",
              "      <td>0</td>\n",
              "      <td>1027.6</td>\n",
              "      <td>0</td>\n",
              "      <td>2.0</td>\n",
              "      <td>0</td>\n",
              "      <td>1.3</td>\n",
              "      <td>0</td>\n",
              "      <td>4443141</td>\n",
              "      <td>1984-01-01 12:00:00</td>\n",
              "      <td>1984-02-01 15:00:00</td>\n",
              "    </tr>\n",
              "    <tr>\n",
              "      <th>...</th>\n",
              "      <td>...</td>\n",
              "      <td>...</td>\n",
              "      <td>...</td>\n",
              "      <td>...</td>\n",
              "      <td>...</td>\n",
              "      <td>...</td>\n",
              "      <td>...</td>\n",
              "      <td>...</td>\n",
              "      <td>...</td>\n",
              "      <td>...</td>\n",
              "      <td>...</td>\n",
              "      <td>...</td>\n",
              "      <td>...</td>\n",
              "      <td>...</td>\n",
              "      <td>...</td>\n",
              "      <td>...</td>\n",
              "      <td>...</td>\n",
              "      <td>...</td>\n",
              "      <td>...</td>\n",
              "      <td>...</td>\n",
              "      <td>...</td>\n",
              "      <td>...</td>\n",
              "      <td>...</td>\n",
              "      <td>...</td>\n",
              "      <td>...</td>\n",
              "      <td>...</td>\n",
              "      <td>...</td>\n",
              "      <td>...</td>\n",
              "      <td>...</td>\n",
              "      <td>...</td>\n",
              "      <td>...</td>\n",
              "      <td>...</td>\n",
              "      <td>...</td>\n",
              "      <td>...</td>\n",
              "      <td>...</td>\n",
              "      <td>...</td>\n",
              "      <td>...</td>\n",
              "      <td>...</td>\n",
              "      <td>...</td>\n",
              "      <td>...</td>\n",
              "      <td>...</td>\n",
              "      <td>...</td>\n",
              "      <td>...</td>\n",
              "      <td>...</td>\n",
              "      <td>...</td>\n",
              "      <td>...</td>\n",
              "      <td>...</td>\n",
              "      <td>...</td>\n",
              "      <td>...</td>\n",
              "      <td>...</td>\n",
              "      <td>...</td>\n",
              "    </tr>\n",
              "    <tr>\n",
              "      <th>105184</th>\n",
              "      <td>31253</td>\n",
              "      <td>4</td>\n",
              "      <td>9</td>\n",
              "      <td>8</td>\n",
              "      <td>20</td>\n",
              "      <td>NaN</td>\n",
              "      <td>0</td>\n",
              "      <td>0.0</td>\n",
              "      <td>0.0</td>\n",
              "      <td>0</td>\n",
              "      <td>1.0</td>\n",
              "      <td>0</td>\n",
              "      <td>2.0</td>\n",
              "      <td>0</td>\n",
              "      <td>219.0</td>\n",
              "      <td>0</td>\n",
              "      <td>1.0</td>\n",
              "      <td>0</td>\n",
              "      <td>0</td>\n",
              "      <td>3.0</td>\n",
              "      <td>0</td>\n",
              "      <td>0</td>\n",
              "      <td>0.0</td>\n",
              "      <td>5</td>\n",
              "      <td>-10.3</td>\n",
              "      <td>0</td>\n",
              "      <td>NaN</td>\n",
              "      <td>6</td>\n",
              "      <td>-7.2</td>\n",
              "      <td>0</td>\n",
              "      <td>-16.3</td>\n",
              "      <td>0</td>\n",
              "      <td>-7.1</td>\n",
              "      <td>0</td>\n",
              "      <td>54.0</td>\n",
              "      <td>0</td>\n",
              "      <td>1.65</td>\n",
              "      <td>0</td>\n",
              "      <td>-14.9</td>\n",
              "      <td>0</td>\n",
              "      <td>966.2</td>\n",
              "      <td>0</td>\n",
              "      <td>1012.1</td>\n",
              "      <td>0</td>\n",
              "      <td>2.0</td>\n",
              "      <td>0</td>\n",
              "      <td>0.3</td>\n",
              "      <td>0</td>\n",
              "      <td>5472891</td>\n",
              "      <td>2020-03-31 00:00:00</td>\n",
              "      <td>2020-03-31 00:00:00</td>\n",
              "    </tr>\n",
              "    <tr>\n",
              "      <th>105185</th>\n",
              "      <td>31253</td>\n",
              "      <td>5</td>\n",
              "      <td>12</td>\n",
              "      <td>8</td>\n",
              "      <td>20</td>\n",
              "      <td>NaN</td>\n",
              "      <td>0</td>\n",
              "      <td>0.0</td>\n",
              "      <td>0.0</td>\n",
              "      <td>0</td>\n",
              "      <td>0.0</td>\n",
              "      <td>0</td>\n",
              "      <td>2.0</td>\n",
              "      <td>0</td>\n",
              "      <td>235.0</td>\n",
              "      <td>0</td>\n",
              "      <td>4.0</td>\n",
              "      <td>0</td>\n",
              "      <td>0</td>\n",
              "      <td>8.0</td>\n",
              "      <td>0</td>\n",
              "      <td>0</td>\n",
              "      <td>0.0</td>\n",
              "      <td>5</td>\n",
              "      <td>-2.5</td>\n",
              "      <td>0</td>\n",
              "      <td>NaN</td>\n",
              "      <td>6</td>\n",
              "      <td>-2.7</td>\n",
              "      <td>0</td>\n",
              "      <td>-8.9</td>\n",
              "      <td>0</td>\n",
              "      <td>-2.7</td>\n",
              "      <td>0</td>\n",
              "      <td>46.0</td>\n",
              "      <td>0</td>\n",
              "      <td>2.72</td>\n",
              "      <td>0</td>\n",
              "      <td>-12.7</td>\n",
              "      <td>0</td>\n",
              "      <td>965.4</td>\n",
              "      <td>0</td>\n",
              "      <td>1010.7</td>\n",
              "      <td>0</td>\n",
              "      <td>8.0</td>\n",
              "      <td>0</td>\n",
              "      <td>0.8</td>\n",
              "      <td>0</td>\n",
              "      <td>5472891</td>\n",
              "      <td>2020-03-31 03:00:00</td>\n",
              "      <td>2020-03-31 03:00:00</td>\n",
              "    </tr>\n",
              "    <tr>\n",
              "      <th>105186</th>\n",
              "      <td>31253</td>\n",
              "      <td>6</td>\n",
              "      <td>15</td>\n",
              "      <td>8</td>\n",
              "      <td>20</td>\n",
              "      <td>NaN</td>\n",
              "      <td>0</td>\n",
              "      <td>0.0</td>\n",
              "      <td>4.0</td>\n",
              "      <td>0</td>\n",
              "      <td>0.0</td>\n",
              "      <td>0</td>\n",
              "      <td>2.0</td>\n",
              "      <td>0</td>\n",
              "      <td>227.0</td>\n",
              "      <td>0</td>\n",
              "      <td>4.0</td>\n",
              "      <td>0</td>\n",
              "      <td>0</td>\n",
              "      <td>10.0</td>\n",
              "      <td>0</td>\n",
              "      <td>0</td>\n",
              "      <td>0.0</td>\n",
              "      <td>5</td>\n",
              "      <td>-0.2</td>\n",
              "      <td>0</td>\n",
              "      <td>NaN</td>\n",
              "      <td>6</td>\n",
              "      <td>0.5</td>\n",
              "      <td>0</td>\n",
              "      <td>-2.7</td>\n",
              "      <td>0</td>\n",
              "      <td>0.5</td>\n",
              "      <td>0</td>\n",
              "      <td>34.0</td>\n",
              "      <td>0</td>\n",
              "      <td>4.20</td>\n",
              "      <td>0</td>\n",
              "      <td>-13.6</td>\n",
              "      <td>0</td>\n",
              "      <td>963.7</td>\n",
              "      <td>0</td>\n",
              "      <td>1008.2</td>\n",
              "      <td>0</td>\n",
              "      <td>7.0</td>\n",
              "      <td>0</td>\n",
              "      <td>1.7</td>\n",
              "      <td>0</td>\n",
              "      <td>5472891</td>\n",
              "      <td>2020-03-31 06:00:00</td>\n",
              "      <td>2020-03-31 06:00:00</td>\n",
              "    </tr>\n",
              "    <tr>\n",
              "      <th>105187</th>\n",
              "      <td>31253</td>\n",
              "      <td>7</td>\n",
              "      <td>18</td>\n",
              "      <td>8</td>\n",
              "      <td>20</td>\n",
              "      <td>NaN</td>\n",
              "      <td>0</td>\n",
              "      <td>0.0</td>\n",
              "      <td>9.0</td>\n",
              "      <td>0</td>\n",
              "      <td>1.0</td>\n",
              "      <td>0</td>\n",
              "      <td>2.0</td>\n",
              "      <td>0</td>\n",
              "      <td>235.0</td>\n",
              "      <td>0</td>\n",
              "      <td>2.0</td>\n",
              "      <td>0</td>\n",
              "      <td>0</td>\n",
              "      <td>8.0</td>\n",
              "      <td>0</td>\n",
              "      <td>0</td>\n",
              "      <td>0.0</td>\n",
              "      <td>5</td>\n",
              "      <td>-0.4</td>\n",
              "      <td>0</td>\n",
              "      <td>NaN</td>\n",
              "      <td>6</td>\n",
              "      <td>-0.1</td>\n",
              "      <td>0</td>\n",
              "      <td>-0.9</td>\n",
              "      <td>0</td>\n",
              "      <td>1.0</td>\n",
              "      <td>0</td>\n",
              "      <td>33.0</td>\n",
              "      <td>0</td>\n",
              "      <td>4.08</td>\n",
              "      <td>0</td>\n",
              "      <td>-14.5</td>\n",
              "      <td>0</td>\n",
              "      <td>962.4</td>\n",
              "      <td>0</td>\n",
              "      <td>1007.0</td>\n",
              "      <td>0</td>\n",
              "      <td>7.0</td>\n",
              "      <td>0</td>\n",
              "      <td>1.3</td>\n",
              "      <td>0</td>\n",
              "      <td>5472891</td>\n",
              "      <td>2020-03-31 09:00:00</td>\n",
              "      <td>2020-03-31 09:00:00</td>\n",
              "    </tr>\n",
              "    <tr>\n",
              "      <th>105188</th>\n",
              "      <td>31253</td>\n",
              "      <td>8</td>\n",
              "      <td>21</td>\n",
              "      <td>8</td>\n",
              "      <td>20</td>\n",
              "      <td>NaN</td>\n",
              "      <td>5</td>\n",
              "      <td>0.0</td>\n",
              "      <td>8.0</td>\n",
              "      <td>0</td>\n",
              "      <td>1.0</td>\n",
              "      <td>0</td>\n",
              "      <td>2.0</td>\n",
              "      <td>0</td>\n",
              "      <td>236.0</td>\n",
              "      <td>0</td>\n",
              "      <td>1.0</td>\n",
              "      <td>0</td>\n",
              "      <td>0</td>\n",
              "      <td>6.0</td>\n",
              "      <td>0</td>\n",
              "      <td>0</td>\n",
              "      <td>0.0</td>\n",
              "      <td>5</td>\n",
              "      <td>-4.6</td>\n",
              "      <td>0</td>\n",
              "      <td>NaN</td>\n",
              "      <td>6</td>\n",
              "      <td>-2.0</td>\n",
              "      <td>0</td>\n",
              "      <td>-2.0</td>\n",
              "      <td>0</td>\n",
              "      <td>0.3</td>\n",
              "      <td>0</td>\n",
              "      <td>39.0</td>\n",
              "      <td>0</td>\n",
              "      <td>3.24</td>\n",
              "      <td>0</td>\n",
              "      <td>-14.1</td>\n",
              "      <td>0</td>\n",
              "      <td>962.3</td>\n",
              "      <td>0</td>\n",
              "      <td>1007.2</td>\n",
              "      <td>0</td>\n",
              "      <td>7.0</td>\n",
              "      <td>0</td>\n",
              "      <td>0.1</td>\n",
              "      <td>0</td>\n",
              "      <td>5472891</td>\n",
              "      <td>2020-03-31 12:00:00</td>\n",
              "      <td>2020-03-31 12:00:00</td>\n",
              "    </tr>\n",
              "  </tbody>\n",
              "</table>\n",
              "<p>3580001 rows × 51 columns</p>\n",
              "</div>"
            ],
            "text/plain": [
              "        stationNumber  timePeriodNum  ...                date           localDate\n",
              "0               31915              5  ... 1984-01-01 00:00:00 1984-01-01 03:00:00\n",
              "1               31915              6  ... 1984-01-01 03:00:00 1984-01-01 06:00:00\n",
              "2               31915              7  ... 1984-01-01 06:00:00 1984-01-01 09:00:00\n",
              "3               31915              8  ... 1984-01-01 09:00:00 1984-01-01 12:00:00\n",
              "4               31915              1  ... 1984-01-01 12:00:00 1984-02-01 15:00:00\n",
              "...               ...            ...  ...                 ...                 ...\n",
              "105184          31253              4  ... 2020-03-31 00:00:00 2020-03-31 00:00:00\n",
              "105185          31253              5  ... 2020-03-31 03:00:00 2020-03-31 03:00:00\n",
              "105186          31253              6  ... 2020-03-31 06:00:00 2020-03-31 06:00:00\n",
              "105187          31253              7  ... 2020-03-31 09:00:00 2020-03-31 09:00:00\n",
              "105188          31253              8  ... 2020-03-31 12:00:00 2020-03-31 12:00:00\n",
              "\n",
              "[3580001 rows x 51 columns]"
            ]
          },
          "metadata": {
            "tags": []
          },
          "execution_count": 52
        }
      ]
    },
    {
      "cell_type": "code",
      "metadata": {
        "id": "b9aVEmMRimw9"
      },
      "source": [
        "# В таблице очень много разряженных данных, уберем те колонки, где нулей больше 70 процентов\n",
        "meteo_new_df = meteo_new_df.loc[:, (meteo_new_df==0).mean() < .7]"
      ],
      "execution_count": null,
      "outputs": []
    },
    {
      "cell_type": "code",
      "metadata": {
        "id": "syhyodffr0lK",
        "outputId": "a32b0bda-e6c9-424d-ef89-9070540da54c",
        "colab": {
          "base_uri": "https://localhost:8080/",
          "height": 72
        }
      },
      "source": [
        "# В таблице есть данные с пропусками, заполним их средним значением колонки\n",
        "meteo_new_df = meteo_new_df.fillna(meteo_new_df.mean())"
      ],
      "execution_count": null,
      "outputs": [
        {
          "output_type": "stream",
          "text": [
            "/usr/local/lib/python3.6/dist-packages/ipykernel_launcher.py:2: FutureWarning: DataFrame.mean and DataFrame.median with numeric_only=None will include datetime64 and datetime64tz columns in a future version.\n",
            "  \n"
          ],
          "name": "stderr"
        }
      ]
    },
    {
      "cell_type": "code",
      "metadata": {
        "id": "8kUPp41_r17a",
        "outputId": "d38d1847-1289-41c0-c63c-090eb4bfc7e0",
        "colab": {
          "base_uri": "https://localhost:8080/",
          "height": 656
        }
      },
      "source": [
        "meteo_new_df.info()"
      ],
      "execution_count": null,
      "outputs": [
        {
          "output_type": "stream",
          "text": [
            "<class 'pandas.core.frame.DataFrame'>\n",
            "Int64Index: 3580001 entries, 0 to 105188\n",
            "Data columns (total 29 columns):\n",
            " #   Column                                            Dtype         \n",
            "---  ------                                            -----         \n",
            " 0   stationNumber                                     int64         \n",
            " 1   timePeriodNum                                     int64         \n",
            " 2   localTime                                         int64         \n",
            " 3   tz                                                int64         \n",
            " 4   startMeteoDay                                     int64         \n",
            " 5   horizontalVisibility                              float64       \n",
            " 6   horizontalVisibilityQuality                       int64         \n",
            " 7   cloudCoverTotal                                   float64       \n",
            " 8   pastWeather                                       float64       \n",
            " 9   presentWeather                                    float64       \n",
            " 10  windDirection                                     float64       \n",
            " 11  windSpeed                                         float64       \n",
            " 12  maximumWindGustSpeed                              float64       \n",
            " 13  totalAccumulatedPrecipitationQuality              int64         \n",
            " 14  soilTemperature                                   float64       \n",
            " 15  groundMinimumTemperature                          float64       \n",
            " 16  airTemperature                                    float64       \n",
            " 17  minimumTemperatureAtHeightAndOverPeriodSpecified  float64       \n",
            " 18  maximumTemperatureOverPeriodSpecified             float64       \n",
            " 19  relativeHumidity                                  float64       \n",
            " 20  vapourPressure                                    float64       \n",
            " 21  dewpointTemperature                               float64       \n",
            " 22  pressure                                          float64       \n",
            " 23  pressureReducedToMeanSeaLevel                     float64       \n",
            " 24  characteristicOfPressureTendency                  float64       \n",
            " 25  HourPressureChange3                               float64       \n",
            " 26  stationId                                         int64         \n",
            " 27  date                                              datetime64[ns]\n",
            " 28  localDate                                         datetime64[ns]\n",
            "dtypes: datetime64[ns](2), float64(19), int64(8)\n",
            "memory usage: 819.4 MB\n"
          ],
          "name": "stdout"
        }
      ]
    },
    {
      "cell_type": "markdown",
      "metadata": {
        "id": "nnhI7YNE-Iqf"
      },
      "source": [
        "#Анна"
      ]
    },
    {
      "cell_type": "code",
      "metadata": {
        "id": "edBSBno5-L3B"
      },
      "source": [
        "path_to_meteo = './datasets/meteo/'\n",
        "files_meteo = ! ls -1 $path_to_meteo"
      ],
      "execution_count": null,
      "outputs": []
    },
    {
      "cell_type": "markdown",
      "metadata": {
        "id": "LK7GlDsMcXe-"
      },
      "source": [
        "meteo_df - это датафрейм, собранный из 108 файлов meteo/NNNNNNN.csv, где NNNNNNN номер синтаптической станции\n",
        "meteo_df содержит архив наблюдений на метеостанциях сети Росгидромета с 1985 по 2018, всего 108 станций  \n",
        "в датафрейме 9959296 строк, 21 колонка  \n",
        "Названия колонок:  \n",
        "1 station_name Название станции  \n",
        "2 station_id Идентификатор станции   \n",
        "3 visibility_distance Горизонтальная дальность видимости  \n",
        "4 visibility_distance_quality Признак качества  \n",
        "5 wind_direction Направление ветра  \n",
        "6 wind_direction_quality Признак качества  \n",
        "7 wind_speed_avg Средняя скорость ветра  \n",
        "8 wind_speed_avg_quality Признак качества  \n",
        "9 wind_speed_sign Признак наличия знака >  \n",
        "10 wind_speed_max Максимальное скорость ветра  \n",
        "11 wind_speed_max_quality Признак качества  \n",
        "12 wind_speed_max_sign Признак наличия знака >  \n",
        "13 precipitation_amount Сумма осадков за период между сроками  \n",
        "14 precipitation_amount_quality Признак качества  \n",
        "15 temperature_ground Температура поверхности почвы в срок  \n",
        "16 temperature_ground_quality Признак качества  \n",
        "17 temperature_air Температура воздуха в срок по сухому терм-ру  \n",
        "18 temperature_air_quality Признак качества  \n",
        "19 humidity Относительная влажность воздуха в срок  \n",
        "20 humidity_quality Признак качества  \n",
        "21 time Срок наблюдения  \n",
        "Типы данных float64(10), int64(9), object(2)  \n"
      ]
    },
    {
      "cell_type": "code",
      "metadata": {
        "id": "rTExLgAz-NCr",
        "outputId": "4386dfe2-f18d-4095-9f22-7466732354d7",
        "colab": {
          "base_uri": "https://localhost:8080/",
          "height": 34
        }
      },
      "source": [
        "len(files_meteo)"
      ],
      "execution_count": null,
      "outputs": [
        {
          "output_type": "execute_result",
          "data": {
            "text/plain": [
              "108"
            ]
          },
          "metadata": {
            "tags": []
          },
          "execution_count": 20
        }
      ]
    },
    {
      "cell_type": "code",
      "metadata": {
        "id": "T4z35Mc7-dah",
        "outputId": "d9a85651-323f-4c9d-c2c9-4191d0dee010",
        "colab": {
          "base_uri": "https://localhost:8080/",
          "height": 51
        }
      },
      "source": [
        "%%time\n",
        "# Собираем в pandas dataframe \n",
        "meteo_df = []\n",
        "for filename in files_meteo:\n",
        "    tmp = pd.read_csv(path_to_meteo + filename, sep = ';') #надо ли еще минус первую строчку у каждого файла и сделать заголовки для таблицы? оно вроде нормально объединилось\n",
        "    meteo_df.append(tmp)\n",
        "meteo_df = pd.concat(meteo_df)"
      ],
      "execution_count": null,
      "outputs": [
        {
          "output_type": "stream",
          "text": [
            "CPU times: user 17.6 s, sys: 3.56 s, total: 21.2 s\n",
            "Wall time: 21.2 s\n"
          ],
          "name": "stdout"
        }
      ]
    },
    {
      "cell_type": "code",
      "metadata": {
        "id": "ZoRtr2d-hsuM"
      },
      "source": [
        "# Переиндексируем:\n",
        "meteo_df.reset_index(drop=True, inplace=True)"
      ],
      "execution_count": null,
      "outputs": []
    },
    {
      "cell_type": "code",
      "metadata": {
        "id": "vU0j7Bd3AJdM",
        "outputId": "d12dacbe-8a4c-4daa-a3b6-555ee84e417f",
        "colab": {
          "base_uri": "https://localhost:8080/",
          "height": 199
        }
      },
      "source": [
        "meteo_df.head(2)"
      ],
      "execution_count": null,
      "outputs": [
        {
          "output_type": "execute_result",
          "data": {
            "text/html": [
              "<div>\n",
              "<style scoped>\n",
              "    .dataframe tbody tr th:only-of-type {\n",
              "        vertical-align: middle;\n",
              "    }\n",
              "\n",
              "    .dataframe tbody tr th {\n",
              "        vertical-align: top;\n",
              "    }\n",
              "\n",
              "    .dataframe thead th {\n",
              "        text-align: right;\n",
              "    }\n",
              "</style>\n",
              "<table border=\"1\" class=\"dataframe\">\n",
              "  <thead>\n",
              "    <tr style=\"text-align: right;\">\n",
              "      <th></th>\n",
              "      <th>station_name</th>\n",
              "      <th>station_id</th>\n",
              "      <th>visibility_distance</th>\n",
              "      <th>visibility_distance_quality</th>\n",
              "      <th>wind_direction</th>\n",
              "      <th>wind_direction_quality</th>\n",
              "      <th>wind_speed_avg</th>\n",
              "      <th>wind_speed_avg_quality</th>\n",
              "      <th>wind_speed_sign</th>\n",
              "      <th>wind_speed_max</th>\n",
              "      <th>wind_speed_max_quality</th>\n",
              "      <th>wind_speed_max_sign</th>\n",
              "      <th>precipitation_amount</th>\n",
              "      <th>precipitation_amount_quality</th>\n",
              "      <th>temperature_ground</th>\n",
              "      <th>temperature_ground_quality</th>\n",
              "      <th>temperature_air</th>\n",
              "      <th>temperature_air_quality</th>\n",
              "      <th>humidity</th>\n",
              "      <th>humidity_quality</th>\n",
              "      <th>time</th>\n",
              "    </tr>\n",
              "  </thead>\n",
              "  <tbody>\n",
              "    <tr>\n",
              "      <th>0</th>\n",
              "      <td>GAMOV</td>\n",
              "      <td>4263131</td>\n",
              "      <td>NaN</td>\n",
              "      <td>6</td>\n",
              "      <td>254.0</td>\n",
              "      <td>0</td>\n",
              "      <td>5.0</td>\n",
              "      <td>0</td>\n",
              "      <td>NaN</td>\n",
              "      <td>7.0</td>\n",
              "      <td>0</td>\n",
              "      <td>NaN</td>\n",
              "      <td>NaN</td>\n",
              "      <td>5</td>\n",
              "      <td>NaN</td>\n",
              "      <td>6</td>\n",
              "      <td>1.2</td>\n",
              "      <td>0</td>\n",
              "      <td>76.0</td>\n",
              "      <td>0</td>\n",
              "      <td>2013-04-17 21:00:00</td>\n",
              "    </tr>\n",
              "    <tr>\n",
              "      <th>1</th>\n",
              "      <td>GAMOV</td>\n",
              "      <td>4263131</td>\n",
              "      <td>NaN</td>\n",
              "      <td>6</td>\n",
              "      <td>NaN</td>\n",
              "      <td>6</td>\n",
              "      <td>NaN</td>\n",
              "      <td>6</td>\n",
              "      <td>NaN</td>\n",
              "      <td>NaN</td>\n",
              "      <td>6</td>\n",
              "      <td>NaN</td>\n",
              "      <td>NaN</td>\n",
              "      <td>5</td>\n",
              "      <td>NaN</td>\n",
              "      <td>6</td>\n",
              "      <td>NaN</td>\n",
              "      <td>6</td>\n",
              "      <td>NaN</td>\n",
              "      <td>6</td>\n",
              "      <td>2013-04-17 18:00:00</td>\n",
              "    </tr>\n",
              "  </tbody>\n",
              "</table>\n",
              "</div>"
            ],
            "text/plain": [
              "  station_name  station_id  ...  humidity_quality                 time\n",
              "0        GAMOV     4263131  ...                 0  2013-04-17 21:00:00\n",
              "1        GAMOV     4263131  ...                 6  2013-04-17 18:00:00\n",
              "\n",
              "[2 rows x 21 columns]"
            ]
          },
          "metadata": {
            "tags": []
          },
          "execution_count": 7
        }
      ]
    },
    {
      "cell_type": "code",
      "metadata": {
        "id": "55DB9-jYAMxj",
        "outputId": "6d83137b-1246-4ae6-f40f-44e4586fa6f6",
        "colab": {
          "base_uri": "https://localhost:8080/",
          "height": 199
        }
      },
      "source": [
        "meteo_df.tail(2)"
      ],
      "execution_count": null,
      "outputs": [
        {
          "output_type": "execute_result",
          "data": {
            "text/html": [
              "<div>\n",
              "<style scoped>\n",
              "    .dataframe tbody tr th:only-of-type {\n",
              "        vertical-align: middle;\n",
              "    }\n",
              "\n",
              "    .dataframe tbody tr th {\n",
              "        vertical-align: top;\n",
              "    }\n",
              "\n",
              "    .dataframe thead th {\n",
              "        text-align: right;\n",
              "    }\n",
              "</style>\n",
              "<table border=\"1\" class=\"dataframe\">\n",
              "  <thead>\n",
              "    <tr style=\"text-align: right;\">\n",
              "      <th></th>\n",
              "      <th>station_name</th>\n",
              "      <th>station_id</th>\n",
              "      <th>visibility_distance</th>\n",
              "      <th>visibility_distance_quality</th>\n",
              "      <th>wind_direction</th>\n",
              "      <th>wind_direction_quality</th>\n",
              "      <th>wind_speed_avg</th>\n",
              "      <th>wind_speed_avg_quality</th>\n",
              "      <th>wind_speed_sign</th>\n",
              "      <th>wind_speed_max</th>\n",
              "      <th>wind_speed_max_quality</th>\n",
              "      <th>wind_speed_max_sign</th>\n",
              "      <th>precipitation_amount</th>\n",
              "      <th>precipitation_amount_quality</th>\n",
              "      <th>temperature_ground</th>\n",
              "      <th>temperature_ground_quality</th>\n",
              "      <th>temperature_air</th>\n",
              "      <th>temperature_air_quality</th>\n",
              "      <th>humidity</th>\n",
              "      <th>humidity_quality</th>\n",
              "      <th>time</th>\n",
              "    </tr>\n",
              "  </thead>\n",
              "  <tbody>\n",
              "    <tr>\n",
              "      <th>9959294</th>\n",
              "      <td>TINDA</td>\n",
              "      <td>5522471</td>\n",
              "      <td>56.0</td>\n",
              "      <td>0</td>\n",
              "      <td>20.0</td>\n",
              "      <td>0</td>\n",
              "      <td>2.0</td>\n",
              "      <td>0</td>\n",
              "      <td>NaN</td>\n",
              "      <td>7.0</td>\n",
              "      <td>0</td>\n",
              "      <td>NaN</td>\n",
              "      <td>NaN</td>\n",
              "      <td>5</td>\n",
              "      <td>7.3</td>\n",
              "      <td>0</td>\n",
              "      <td>5.1</td>\n",
              "      <td>0</td>\n",
              "      <td>95.0</td>\n",
              "      <td>0</td>\n",
              "      <td>2000-05-25 03:00:00</td>\n",
              "    </tr>\n",
              "    <tr>\n",
              "      <th>9959295</th>\n",
              "      <td>TINDA</td>\n",
              "      <td>5522471</td>\n",
              "      <td>56.0</td>\n",
              "      <td>0</td>\n",
              "      <td>215.0</td>\n",
              "      <td>0</td>\n",
              "      <td>1.0</td>\n",
              "      <td>0</td>\n",
              "      <td>NaN</td>\n",
              "      <td>4.0</td>\n",
              "      <td>0</td>\n",
              "      <td>NaN</td>\n",
              "      <td>5.6</td>\n",
              "      <td>0</td>\n",
              "      <td>9.0</td>\n",
              "      <td>0</td>\n",
              "      <td>8.0</td>\n",
              "      <td>0</td>\n",
              "      <td>100.0</td>\n",
              "      <td>0</td>\n",
              "      <td>2000-05-25 00:00:00</td>\n",
              "    </tr>\n",
              "  </tbody>\n",
              "</table>\n",
              "</div>"
            ],
            "text/plain": [
              "        station_name  station_id  ...  humidity_quality                 time\n",
              "9959294        TINDA     5522471  ...                 0  2000-05-25 03:00:00\n",
              "9959295        TINDA     5522471  ...                 0  2000-05-25 00:00:00\n",
              "\n",
              "[2 rows x 21 columns]"
            ]
          },
          "metadata": {
            "tags": []
          },
          "execution_count": 8
        }
      ]
    },
    {
      "cell_type": "code",
      "metadata": {
        "id": "wq9YQO_VGoC3",
        "outputId": "85ea3bb4-33e8-4fb0-a306-1a7be595c44b",
        "colab": {
          "base_uri": "https://localhost:8080/",
          "height": 493
        }
      },
      "source": [
        "meteo_df.info()"
      ],
      "execution_count": null,
      "outputs": [
        {
          "output_type": "stream",
          "text": [
            "<class 'pandas.core.frame.DataFrame'>\n",
            "RangeIndex: 9959296 entries, 0 to 9959295\n",
            "Data columns (total 21 columns):\n",
            " #   Column                        Dtype  \n",
            "---  ------                        -----  \n",
            " 0   station_name                  object \n",
            " 1   station_id                    int64  \n",
            " 2   visibility_distance           float64\n",
            " 3   visibility_distance_quality   int64  \n",
            " 4   wind_direction                float64\n",
            " 5   wind_direction_quality        int64  \n",
            " 6   wind_speed_avg                float64\n",
            " 7   wind_speed_avg_quality        int64  \n",
            " 8   wind_speed_sign               float64\n",
            " 9   wind_speed_max                float64\n",
            " 10  wind_speed_max_quality        int64  \n",
            " 11  wind_speed_max_sign           float64\n",
            " 12  precipitation_amount          float64\n",
            " 13  precipitation_amount_quality  int64  \n",
            " 14  temperature_ground            float64\n",
            " 15  temperature_ground_quality    int64  \n",
            " 16  temperature_air               float64\n",
            " 17  temperature_air_quality       int64  \n",
            " 18  humidity                      float64\n",
            " 19  humidity_quality              int64  \n",
            " 20  time                          object \n",
            "dtypes: float64(10), int64(9), object(2)\n",
            "memory usage: 1.6+ GB\n"
          ],
          "name": "stdout"
        }
      ]
    },
    {
      "cell_type": "code",
      "metadata": {
        "id": "qCxDgEnKHyCf",
        "outputId": "9b6de9a0-e377-4cc3-8fcc-c67b74f0ed50",
        "colab": {
          "base_uri": "https://localhost:8080/",
          "height": 317
        }
      },
      "source": [
        "meteo_df.describe()"
      ],
      "execution_count": null,
      "outputs": [
        {
          "output_type": "execute_result",
          "data": {
            "text/html": [
              "<div>\n",
              "<style scoped>\n",
              "    .dataframe tbody tr th:only-of-type {\n",
              "        vertical-align: middle;\n",
              "    }\n",
              "\n",
              "    .dataframe tbody tr th {\n",
              "        vertical-align: top;\n",
              "    }\n",
              "\n",
              "    .dataframe thead th {\n",
              "        text-align: right;\n",
              "    }\n",
              "</style>\n",
              "<table border=\"1\" class=\"dataframe\">\n",
              "  <thead>\n",
              "    <tr style=\"text-align: right;\">\n",
              "      <th></th>\n",
              "      <th>station_id</th>\n",
              "      <th>visibility_distance</th>\n",
              "      <th>visibility_distance_quality</th>\n",
              "      <th>wind_direction</th>\n",
              "      <th>wind_direction_quality</th>\n",
              "      <th>wind_speed_avg</th>\n",
              "      <th>wind_speed_avg_quality</th>\n",
              "      <th>wind_speed_sign</th>\n",
              "      <th>wind_speed_max</th>\n",
              "      <th>wind_speed_max_quality</th>\n",
              "      <th>wind_speed_max_sign</th>\n",
              "      <th>precipitation_amount</th>\n",
              "      <th>precipitation_amount_quality</th>\n",
              "      <th>temperature_ground</th>\n",
              "      <th>temperature_ground_quality</th>\n",
              "      <th>temperature_air</th>\n",
              "      <th>temperature_air_quality</th>\n",
              "      <th>humidity</th>\n",
              "      <th>humidity_quality</th>\n",
              "    </tr>\n",
              "  </thead>\n",
              "  <tbody>\n",
              "    <tr>\n",
              "      <th>count</th>\n",
              "      <td>9.959296e+06</td>\n",
              "      <td>6.935735e+06</td>\n",
              "      <td>9.959296e+06</td>\n",
              "      <td>9.658505e+06</td>\n",
              "      <td>9.959296e+06</td>\n",
              "      <td>9.657235e+06</td>\n",
              "      <td>9.959296e+06</td>\n",
              "      <td>6.0</td>\n",
              "      <td>9.604971e+06</td>\n",
              "      <td>9.959296e+06</td>\n",
              "      <td>97.0</td>\n",
              "      <td>676849.000000</td>\n",
              "      <td>9.959296e+06</td>\n",
              "      <td>8.976419e+06</td>\n",
              "      <td>9.959296e+06</td>\n",
              "      <td>9.735092e+06</td>\n",
              "      <td>9.959296e+06</td>\n",
              "      <td>9.652774e+06</td>\n",
              "      <td>9.959296e+06</td>\n",
              "    </tr>\n",
              "    <tr>\n",
              "      <th>mean</th>\n",
              "      <td>5.014255e+06</td>\n",
              "      <td>9.268986e+01</td>\n",
              "      <td>1.560392e+00</td>\n",
              "      <td>1.463441e+02</td>\n",
              "      <td>1.962744e-01</td>\n",
              "      <td>1.883636e+00</td>\n",
              "      <td>1.970453e-01</td>\n",
              "      <td>0.0</td>\n",
              "      <td>4.440605e+00</td>\n",
              "      <td>2.297958e-01</td>\n",
              "      <td>0.0</td>\n",
              "      <td>2.867632</td>\n",
              "      <td>4.689867e+00</td>\n",
              "      <td>1.265210e-01</td>\n",
              "      <td>6.108870e-01</td>\n",
              "      <td>-3.730464e-01</td>\n",
              "      <td>1.551766e-01</td>\n",
              "      <td>7.043046e+01</td>\n",
              "      <td>1.995857e-01</td>\n",
              "    </tr>\n",
              "    <tr>\n",
              "      <th>std</th>\n",
              "      <td>2.886573e+05</td>\n",
              "      <td>1.393688e+01</td>\n",
              "      <td>2.377268e+00</td>\n",
              "      <td>1.339412e+02</td>\n",
              "      <td>1.114293e+00</td>\n",
              "      <td>1.957506e+00</td>\n",
              "      <td>1.116247e+00</td>\n",
              "      <td>0.0</td>\n",
              "      <td>3.544410e+00</td>\n",
              "      <td>1.193106e+00</td>\n",
              "      <td>0.0</td>\n",
              "      <td>5.713966</td>\n",
              "      <td>1.289238e+00</td>\n",
              "      <td>2.035434e+01</td>\n",
              "      <td>1.663553e+00</td>\n",
              "      <td>1.705032e+01</td>\n",
              "      <td>9.948064e-01</td>\n",
              "      <td>2.021177e+01</td>\n",
              "      <td>1.123329e+00</td>\n",
              "    </tr>\n",
              "    <tr>\n",
              "      <th>min</th>\n",
              "      <td>4.263131e+06</td>\n",
              "      <td>0.000000e+00</td>\n",
              "      <td>0.000000e+00</td>\n",
              "      <td>0.000000e+00</td>\n",
              "      <td>0.000000e+00</td>\n",
              "      <td>0.000000e+00</td>\n",
              "      <td>0.000000e+00</td>\n",
              "      <td>0.0</td>\n",
              "      <td>0.000000e+00</td>\n",
              "      <td>0.000000e+00</td>\n",
              "      <td>0.0</td>\n",
              "      <td>0.000000</td>\n",
              "      <td>0.000000e+00</td>\n",
              "      <td>-5.960000e+01</td>\n",
              "      <td>0.000000e+00</td>\n",
              "      <td>-7.680000e+01</td>\n",
              "      <td>0.000000e+00</td>\n",
              "      <td>0.000000e+00</td>\n",
              "      <td>0.000000e+00</td>\n",
              "    </tr>\n",
              "    <tr>\n",
              "      <th>25%</th>\n",
              "      <td>4.883591e+06</td>\n",
              "      <td>9.600000e+01</td>\n",
              "      <td>0.000000e+00</td>\n",
              "      <td>0.000000e+00</td>\n",
              "      <td>0.000000e+00</td>\n",
              "      <td>0.000000e+00</td>\n",
              "      <td>0.000000e+00</td>\n",
              "      <td>0.0</td>\n",
              "      <td>2.000000e+00</td>\n",
              "      <td>0.000000e+00</td>\n",
              "      <td>0.0</td>\n",
              "      <td>0.200000</td>\n",
              "      <td>5.000000e+00</td>\n",
              "      <td>-1.600000e+01</td>\n",
              "      <td>0.000000e+00</td>\n",
              "      <td>-1.450000e+01</td>\n",
              "      <td>0.000000e+00</td>\n",
              "      <td>5.600000e+01</td>\n",
              "      <td>0.000000e+00</td>\n",
              "    </tr>\n",
              "    <tr>\n",
              "      <th>50%</th>\n",
              "      <td>5.043101e+06</td>\n",
              "      <td>9.900000e+01</td>\n",
              "      <td>0.000000e+00</td>\n",
              "      <td>1.400000e+02</td>\n",
              "      <td>0.000000e+00</td>\n",
              "      <td>1.000000e+00</td>\n",
              "      <td>0.000000e+00</td>\n",
              "      <td>0.0</td>\n",
              "      <td>4.000000e+00</td>\n",
              "      <td>0.000000e+00</td>\n",
              "      <td>0.0</td>\n",
              "      <td>0.800000</td>\n",
              "      <td>5.000000e+00</td>\n",
              "      <td>7.000000e-01</td>\n",
              "      <td>0.000000e+00</td>\n",
              "      <td>1.700000e+00</td>\n",
              "      <td>0.000000e+00</td>\n",
              "      <td>7.400000e+01</td>\n",
              "      <td>0.000000e+00</td>\n",
              "    </tr>\n",
              "    <tr>\n",
              "      <th>75%</th>\n",
              "      <td>5.233581e+06</td>\n",
              "      <td>9.900000e+01</td>\n",
              "      <td>5.000000e+00</td>\n",
              "      <td>2.680000e+02</td>\n",
              "      <td>0.000000e+00</td>\n",
              "      <td>3.000000e+00</td>\n",
              "      <td>0.000000e+00</td>\n",
              "      <td>0.0</td>\n",
              "      <td>6.000000e+00</td>\n",
              "      <td>0.000000e+00</td>\n",
              "      <td>0.0</td>\n",
              "      <td>3.000000</td>\n",
              "      <td>5.000000e+00</td>\n",
              "      <td>1.550000e+01</td>\n",
              "      <td>0.000000e+00</td>\n",
              "      <td>1.410000e+01</td>\n",
              "      <td>0.000000e+00</td>\n",
              "      <td>8.700000e+01</td>\n",
              "      <td>0.000000e+00</td>\n",
              "    </tr>\n",
              "    <tr>\n",
              "      <th>max</th>\n",
              "      <td>5.522471e+06</td>\n",
              "      <td>9.900000e+01</td>\n",
              "      <td>7.000000e+00</td>\n",
              "      <td>9.990000e+02</td>\n",
              "      <td>7.000000e+00</td>\n",
              "      <td>9.600000e+01</td>\n",
              "      <td>7.000000e+00</td>\n",
              "      <td>0.0</td>\n",
              "      <td>4.100000e+01</td>\n",
              "      <td>7.000000e+00</td>\n",
              "      <td>0.0</td>\n",
              "      <td>620.700000</td>\n",
              "      <td>7.000000e+00</td>\n",
              "      <td>1.023000e+02</td>\n",
              "      <td>8.000000e+00</td>\n",
              "      <td>9.030000e+01</td>\n",
              "      <td>7.000000e+00</td>\n",
              "      <td>1.200000e+02</td>\n",
              "      <td>7.000000e+00</td>\n",
              "    </tr>\n",
              "  </tbody>\n",
              "</table>\n",
              "</div>"
            ],
            "text/plain": [
              "         station_id  visibility_distance  ...      humidity  humidity_quality\n",
              "count  9.959296e+06         6.935735e+06  ...  9.652774e+06      9.959296e+06\n",
              "mean   5.014255e+06         9.268986e+01  ...  7.043046e+01      1.995857e-01\n",
              "std    2.886573e+05         1.393688e+01  ...  2.021177e+01      1.123329e+00\n",
              "min    4.263131e+06         0.000000e+00  ...  0.000000e+00      0.000000e+00\n",
              "25%    4.883591e+06         9.600000e+01  ...  5.600000e+01      0.000000e+00\n",
              "50%    5.043101e+06         9.900000e+01  ...  7.400000e+01      0.000000e+00\n",
              "75%    5.233581e+06         9.900000e+01  ...  8.700000e+01      0.000000e+00\n",
              "max    5.522471e+06         9.900000e+01  ...  1.200000e+02      7.000000e+00\n",
              "\n",
              "[8 rows x 19 columns]"
            ]
          },
          "metadata": {
            "tags": []
          },
          "execution_count": 10
        }
      ]
    },
    {
      "cell_type": "code",
      "metadata": {
        "id": "61bwBjTEIAGU",
        "outputId": "208dd831-4ba7-481b-a856-40e2709d7f47",
        "colab": {
          "base_uri": "https://localhost:8080/",
          "height": 173
        }
      },
      "source": [
        "meteo_df.value_counts()"
      ],
      "execution_count": null,
      "outputs": [
        {
          "output_type": "execute_result",
          "data": {
            "text/plain": [
              "station_name  station_id  visibility_distance  visibility_distance_quality  wind_direction  wind_direction_quality  wind_speed_avg  wind_speed_avg_quality  wind_speed_sign  wind_speed_max  wind_speed_max_quality  wind_speed_max_sign  precipitation_amount  precipitation_amount_quality  temperature_ground  temperature_ground_quality  temperature_air  temperature_air_quality  humidity  humidity_quality  time               \n",
              "MALIN25       4982991     99.0                 0                            64.0            0                       0.0             4                       0.0              0.0             4                       0.0                  211.1                 7                             -2.4                0                            64.7            7                        104.0     4                 1989-09-26 18:00:00    1\n",
              "                          96.0                 6                            64.0            0                       0.0             4                       0.0              0.0             4                       0.0                  313.5                 7                             -2.4                4                            25.6            4                        48.0      4                 1989-09-26 15:00:00    1\n",
              "                          48.0                 5                            448.0           0                       0.0             4                       0.0              0.0             4                       0.0                  6.3                   7                             -2.4                0                            90.3            7                        120.0     4                 1989-09-26 00:00:00    1\n",
              "                          32.0                 6                            320.0           0                       0.0             4                       0.0              0.0             4                       0.0                  6.3                   7                             -2.4                0                            26.3            7                        120.0     4                 1989-09-26 21:00:00    1\n",
              "                          16.0                 6                            64.0            0                       0.0             4                       0.0              0.0             4                       0.0                  518.3                 7                             -2.4                8                            12.8            4                        16.0      4                 1989-09-26 12:00:00    1\n",
              "                          0.0                  5                            64.0            0                       0.0             4                       0.0              0.0             4                       0.0                  211.1                 7                             -2.4                4                           -76.8            4                        56.0      4                 1989-09-26 03:00:00    1\n",
              "dtype: int64"
            ]
          },
          "metadata": {
            "tags": []
          },
          "execution_count": 11
        }
      ]
    },
    {
      "cell_type": "code",
      "metadata": {
        "id": "cYF-TJtcIWkt",
        "outputId": "6e33bbb8-b8a1-4bb6-dead-ce3f26dd601d",
        "colab": {
          "base_uri": "https://localhost:8080/",
          "height": 34
        }
      },
      "source": [
        "meteo_df.shape"
      ],
      "execution_count": null,
      "outputs": [
        {
          "output_type": "execute_result",
          "data": {
            "text/plain": [
              "(9959296, 21)"
            ]
          },
          "metadata": {
            "tags": []
          },
          "execution_count": 12
        }
      ]
    },
    {
      "cell_type": "code",
      "metadata": {
        "id": "ftCIqR3KJuYM",
        "outputId": "f3b60719-b396-4479-d1c6-4ccb132bed2a",
        "colab": {
          "base_uri": "https://localhost:8080/",
          "height": 329
        }
      },
      "source": [
        "meteo_df[93006:93010]"
      ],
      "execution_count": null,
      "outputs": [
        {
          "output_type": "execute_result",
          "data": {
            "text/html": [
              "<div>\n",
              "<style scoped>\n",
              "    .dataframe tbody tr th:only-of-type {\n",
              "        vertical-align: middle;\n",
              "    }\n",
              "\n",
              "    .dataframe tbody tr th {\n",
              "        vertical-align: top;\n",
              "    }\n",
              "\n",
              "    .dataframe thead th {\n",
              "        text-align: right;\n",
              "    }\n",
              "</style>\n",
              "<table border=\"1\" class=\"dataframe\">\n",
              "  <thead>\n",
              "    <tr style=\"text-align: right;\">\n",
              "      <th></th>\n",
              "      <th>station_name</th>\n",
              "      <th>station_id</th>\n",
              "      <th>visibility_distance</th>\n",
              "      <th>visibility_distance_quality</th>\n",
              "      <th>wind_direction</th>\n",
              "      <th>wind_direction_quality</th>\n",
              "      <th>wind_speed_avg</th>\n",
              "      <th>wind_speed_avg_quality</th>\n",
              "      <th>wind_speed_sign</th>\n",
              "      <th>wind_speed_max</th>\n",
              "      <th>wind_speed_max_quality</th>\n",
              "      <th>wind_speed_max_sign</th>\n",
              "      <th>precipitation_amount</th>\n",
              "      <th>precipitation_amount_quality</th>\n",
              "      <th>temperature_ground</th>\n",
              "      <th>temperature_ground_quality</th>\n",
              "      <th>temperature_air</th>\n",
              "      <th>temperature_air_quality</th>\n",
              "      <th>humidity</th>\n",
              "      <th>humidity_quality</th>\n",
              "      <th>time</th>\n",
              "    </tr>\n",
              "  </thead>\n",
              "  <tbody>\n",
              "    <tr>\n",
              "      <th>93006</th>\n",
              "      <td>GAMOV</td>\n",
              "      <td>4263131</td>\n",
              "      <td>98.0</td>\n",
              "      <td>0</td>\n",
              "      <td>65.0</td>\n",
              "      <td>0</td>\n",
              "      <td>10.0</td>\n",
              "      <td>0</td>\n",
              "      <td>NaN</td>\n",
              "      <td>18.0</td>\n",
              "      <td>0</td>\n",
              "      <td>NaN</td>\n",
              "      <td>NaN</td>\n",
              "      <td>5</td>\n",
              "      <td>17.6</td>\n",
              "      <td>0</td>\n",
              "      <td>10.6</td>\n",
              "      <td>0</td>\n",
              "      <td>88.0</td>\n",
              "      <td>0</td>\n",
              "      <td>2000-05-31 06:00:00</td>\n",
              "    </tr>\n",
              "    <tr>\n",
              "      <th>93007</th>\n",
              "      <td>GAMOV</td>\n",
              "      <td>4263131</td>\n",
              "      <td>98.0</td>\n",
              "      <td>0</td>\n",
              "      <td>45.0</td>\n",
              "      <td>0</td>\n",
              "      <td>11.0</td>\n",
              "      <td>0</td>\n",
              "      <td>NaN</td>\n",
              "      <td>19.0</td>\n",
              "      <td>0</td>\n",
              "      <td>NaN</td>\n",
              "      <td>NaN</td>\n",
              "      <td>5</td>\n",
              "      <td>13.1</td>\n",
              "      <td>0</td>\n",
              "      <td>11.2</td>\n",
              "      <td>0</td>\n",
              "      <td>86.0</td>\n",
              "      <td>0</td>\n",
              "      <td>2000-05-31 09:00:00</td>\n",
              "    </tr>\n",
              "    <tr>\n",
              "      <th>93008</th>\n",
              "      <td>ANUCH26</td>\n",
              "      <td>4393311</td>\n",
              "      <td>99.0</td>\n",
              "      <td>0</td>\n",
              "      <td>250.0</td>\n",
              "      <td>0</td>\n",
              "      <td>1.0</td>\n",
              "      <td>0</td>\n",
              "      <td>NaN</td>\n",
              "      <td>3.0</td>\n",
              "      <td>0</td>\n",
              "      <td>NaN</td>\n",
              "      <td>NaN</td>\n",
              "      <td>5</td>\n",
              "      <td>-2.3</td>\n",
              "      <td>0</td>\n",
              "      <td>-4.2</td>\n",
              "      <td>0</td>\n",
              "      <td>98.0</td>\n",
              "      <td>0</td>\n",
              "      <td>2013-04-17 21:00:00</td>\n",
              "    </tr>\n",
              "    <tr>\n",
              "      <th>93009</th>\n",
              "      <td>ANUCH26</td>\n",
              "      <td>4393311</td>\n",
              "      <td>NaN</td>\n",
              "      <td>5</td>\n",
              "      <td>250.0</td>\n",
              "      <td>0</td>\n",
              "      <td>1.0</td>\n",
              "      <td>0</td>\n",
              "      <td>NaN</td>\n",
              "      <td>3.0</td>\n",
              "      <td>0</td>\n",
              "      <td>NaN</td>\n",
              "      <td>NaN</td>\n",
              "      <td>5</td>\n",
              "      <td>-2.3</td>\n",
              "      <td>0</td>\n",
              "      <td>-4.6</td>\n",
              "      <td>0</td>\n",
              "      <td>98.0</td>\n",
              "      <td>0</td>\n",
              "      <td>2013-04-17 18:00:00</td>\n",
              "    </tr>\n",
              "  </tbody>\n",
              "</table>\n",
              "</div>"
            ],
            "text/plain": [
              "      station_name  station_id  ...  humidity_quality                 time\n",
              "93006        GAMOV     4263131  ...                 0  2000-05-31 06:00:00\n",
              "93007        GAMOV     4263131  ...                 0  2000-05-31 09:00:00\n",
              "93008      ANUCH26     4393311  ...                 0  2013-04-17 21:00:00\n",
              "93009      ANUCH26     4393311  ...                 0  2013-04-17 18:00:00\n",
              "\n",
              "[4 rows x 21 columns]"
            ]
          },
          "metadata": {
            "tags": []
          },
          "execution_count": 13
        }
      ]
    },
    {
      "cell_type": "code",
      "metadata": {
        "id": "Sike-mQkKFdT",
        "outputId": "41a9bb2b-b8db-4a47-8ae0-1eb952d468ab",
        "colab": {
          "base_uri": "https://localhost:8080/",
          "height": 470
        }
      },
      "source": [
        "meteo_df.groupby('station_name').count()"
      ],
      "execution_count": null,
      "outputs": [
        {
          "output_type": "execute_result",
          "data": {
            "text/html": [
              "<div>\n",
              "<style scoped>\n",
              "    .dataframe tbody tr th:only-of-type {\n",
              "        vertical-align: middle;\n",
              "    }\n",
              "\n",
              "    .dataframe tbody tr th {\n",
              "        vertical-align: top;\n",
              "    }\n",
              "\n",
              "    .dataframe thead th {\n",
              "        text-align: right;\n",
              "    }\n",
              "</style>\n",
              "<table border=\"1\" class=\"dataframe\">\n",
              "  <thead>\n",
              "    <tr style=\"text-align: right;\">\n",
              "      <th></th>\n",
              "      <th>station_id</th>\n",
              "      <th>visibility_distance</th>\n",
              "      <th>visibility_distance_quality</th>\n",
              "      <th>wind_direction</th>\n",
              "      <th>wind_direction_quality</th>\n",
              "      <th>wind_speed_avg</th>\n",
              "      <th>wind_speed_avg_quality</th>\n",
              "      <th>wind_speed_sign</th>\n",
              "      <th>wind_speed_max</th>\n",
              "      <th>wind_speed_max_quality</th>\n",
              "      <th>wind_speed_max_sign</th>\n",
              "      <th>precipitation_amount</th>\n",
              "      <th>precipitation_amount_quality</th>\n",
              "      <th>temperature_ground</th>\n",
              "      <th>temperature_ground_quality</th>\n",
              "      <th>temperature_air</th>\n",
              "      <th>temperature_air_quality</th>\n",
              "      <th>humidity</th>\n",
              "      <th>humidity_quality</th>\n",
              "      <th>time</th>\n",
              "    </tr>\n",
              "    <tr>\n",
              "      <th>station_name</th>\n",
              "      <th></th>\n",
              "      <th></th>\n",
              "      <th></th>\n",
              "      <th></th>\n",
              "      <th></th>\n",
              "      <th></th>\n",
              "      <th></th>\n",
              "      <th></th>\n",
              "      <th></th>\n",
              "      <th></th>\n",
              "      <th></th>\n",
              "      <th></th>\n",
              "      <th></th>\n",
              "      <th></th>\n",
              "      <th></th>\n",
              "      <th></th>\n",
              "      <th></th>\n",
              "      <th></th>\n",
              "      <th></th>\n",
              "      <th></th>\n",
              "    </tr>\n",
              "  </thead>\n",
              "  <tbody>\n",
              "    <tr>\n",
              "      <th>AKSHA</th>\n",
              "      <td>98120</td>\n",
              "      <td>85818</td>\n",
              "      <td>98120</td>\n",
              "      <td>97931</td>\n",
              "      <td>98120</td>\n",
              "      <td>97931</td>\n",
              "      <td>98120</td>\n",
              "      <td>0</td>\n",
              "      <td>97931</td>\n",
              "      <td>98120</td>\n",
              "      <td>0</td>\n",
              "      <td>3901</td>\n",
              "      <td>98120</td>\n",
              "      <td>98076</td>\n",
              "      <td>98120</td>\n",
              "      <td>98120</td>\n",
              "      <td>98120</td>\n",
              "      <td>98120</td>\n",
              "      <td>98120</td>\n",
              "      <td>98120</td>\n",
              "    </tr>\n",
              "    <tr>\n",
              "      <th>ALEKSZD</th>\n",
              "      <td>93504</td>\n",
              "      <td>77264</td>\n",
              "      <td>93504</td>\n",
              "      <td>93504</td>\n",
              "      <td>93504</td>\n",
              "      <td>93504</td>\n",
              "      <td>93504</td>\n",
              "      <td>0</td>\n",
              "      <td>93504</td>\n",
              "      <td>93504</td>\n",
              "      <td>0</td>\n",
              "      <td>5268</td>\n",
              "      <td>93504</td>\n",
              "      <td>93440</td>\n",
              "      <td>93504</td>\n",
              "      <td>93504</td>\n",
              "      <td>93504</td>\n",
              "      <td>93504</td>\n",
              "      <td>93504</td>\n",
              "      <td>93504</td>\n",
              "    </tr>\n",
              "    <tr>\n",
              "      <th>ANUCH26</th>\n",
              "      <td>90336</td>\n",
              "      <td>46999</td>\n",
              "      <td>90336</td>\n",
              "      <td>90330</td>\n",
              "      <td>90336</td>\n",
              "      <td>90331</td>\n",
              "      <td>90336</td>\n",
              "      <td>0</td>\n",
              "      <td>90329</td>\n",
              "      <td>90336</td>\n",
              "      <td>0</td>\n",
              "      <td>6428</td>\n",
              "      <td>90336</td>\n",
              "      <td>90336</td>\n",
              "      <td>90336</td>\n",
              "      <td>90336</td>\n",
              "      <td>90336</td>\n",
              "      <td>90336</td>\n",
              "      <td>90336</td>\n",
              "      <td>90336</td>\n",
              "    </tr>\n",
              "    <tr>\n",
              "      <th>ARHARA</th>\n",
              "      <td>99344</td>\n",
              "      <td>83948</td>\n",
              "      <td>99344</td>\n",
              "      <td>99214</td>\n",
              "      <td>99344</td>\n",
              "      <td>99214</td>\n",
              "      <td>99344</td>\n",
              "      <td>0</td>\n",
              "      <td>99214</td>\n",
              "      <td>99344</td>\n",
              "      <td>3</td>\n",
              "      <td>7157</td>\n",
              "      <td>99344</td>\n",
              "      <td>99231</td>\n",
              "      <td>99344</td>\n",
              "      <td>99231</td>\n",
              "      <td>99344</td>\n",
              "      <td>99210</td>\n",
              "      <td>99344</td>\n",
              "      <td>99344</td>\n",
              "    </tr>\n",
              "    <tr>\n",
              "      <th>ARSENEV</th>\n",
              "      <td>1200</td>\n",
              "      <td>696</td>\n",
              "      <td>1200</td>\n",
              "      <td>1200</td>\n",
              "      <td>1200</td>\n",
              "      <td>1200</td>\n",
              "      <td>1200</td>\n",
              "      <td>0</td>\n",
              "      <td>1200</td>\n",
              "      <td>1200</td>\n",
              "      <td>0</td>\n",
              "      <td>93</td>\n",
              "      <td>1200</td>\n",
              "      <td>1200</td>\n",
              "      <td>1200</td>\n",
              "      <td>1200</td>\n",
              "      <td>1200</td>\n",
              "      <td>1200</td>\n",
              "      <td>1200</td>\n",
              "      <td>1200</td>\n",
              "    </tr>\n",
              "    <tr>\n",
              "      <th>...</th>\n",
              "      <td>...</td>\n",
              "      <td>...</td>\n",
              "      <td>...</td>\n",
              "      <td>...</td>\n",
              "      <td>...</td>\n",
              "      <td>...</td>\n",
              "      <td>...</td>\n",
              "      <td>...</td>\n",
              "      <td>...</td>\n",
              "      <td>...</td>\n",
              "      <td>...</td>\n",
              "      <td>...</td>\n",
              "      <td>...</td>\n",
              "      <td>...</td>\n",
              "      <td>...</td>\n",
              "      <td>...</td>\n",
              "      <td>...</td>\n",
              "      <td>...</td>\n",
              "      <td>...</td>\n",
              "      <td>...</td>\n",
              "    </tr>\n",
              "    <tr>\n",
              "      <th>VURMI</th>\n",
              "      <td>99344</td>\n",
              "      <td>54595</td>\n",
              "      <td>99344</td>\n",
              "      <td>92321</td>\n",
              "      <td>99344</td>\n",
              "      <td>92321</td>\n",
              "      <td>99344</td>\n",
              "      <td>0</td>\n",
              "      <td>92319</td>\n",
              "      <td>99344</td>\n",
              "      <td>1</td>\n",
              "      <td>7589</td>\n",
              "      <td>99344</td>\n",
              "      <td>87002</td>\n",
              "      <td>99344</td>\n",
              "      <td>93543</td>\n",
              "      <td>99344</td>\n",
              "      <td>91848</td>\n",
              "      <td>99344</td>\n",
              "      <td>99344</td>\n",
              "    </tr>\n",
              "    <tr>\n",
              "      <th>VYZEMSK</th>\n",
              "      <td>99104</td>\n",
              "      <td>66783</td>\n",
              "      <td>99104</td>\n",
              "      <td>98155</td>\n",
              "      <td>99104</td>\n",
              "      <td>98155</td>\n",
              "      <td>99104</td>\n",
              "      <td>0</td>\n",
              "      <td>97653</td>\n",
              "      <td>99104</td>\n",
              "      <td>0</td>\n",
              "      <td>7166</td>\n",
              "      <td>99104</td>\n",
              "      <td>98885</td>\n",
              "      <td>99104</td>\n",
              "      <td>98846</td>\n",
              "      <td>99104</td>\n",
              "      <td>98846</td>\n",
              "      <td>99104</td>\n",
              "      <td>99104</td>\n",
              "    </tr>\n",
              "    <tr>\n",
              "      <th>YMKUN</th>\n",
              "      <td>99344</td>\n",
              "      <td>66896</td>\n",
              "      <td>99344</td>\n",
              "      <td>99344</td>\n",
              "      <td>99344</td>\n",
              "      <td>99344</td>\n",
              "      <td>99344</td>\n",
              "      <td>0</td>\n",
              "      <td>99344</td>\n",
              "      <td>99344</td>\n",
              "      <td>0</td>\n",
              "      <td>5899</td>\n",
              "      <td>99344</td>\n",
              "      <td>99258</td>\n",
              "      <td>99344</td>\n",
              "      <td>99344</td>\n",
              "      <td>99344</td>\n",
              "      <td>99344</td>\n",
              "      <td>99344</td>\n",
              "      <td>99344</td>\n",
              "    </tr>\n",
              "    <tr>\n",
              "      <th>ZABAIKA</th>\n",
              "      <td>99344</td>\n",
              "      <td>73090</td>\n",
              "      <td>99344</td>\n",
              "      <td>99317</td>\n",
              "      <td>99344</td>\n",
              "      <td>99344</td>\n",
              "      <td>99344</td>\n",
              "      <td>0</td>\n",
              "      <td>98769</td>\n",
              "      <td>99344</td>\n",
              "      <td>0</td>\n",
              "      <td>3989</td>\n",
              "      <td>99344</td>\n",
              "      <td>98920</td>\n",
              "      <td>99344</td>\n",
              "      <td>99344</td>\n",
              "      <td>99344</td>\n",
              "      <td>99329</td>\n",
              "      <td>99344</td>\n",
              "      <td>99344</td>\n",
              "    </tr>\n",
              "    <tr>\n",
              "      <th>ZAVITAY</th>\n",
              "      <td>99344</td>\n",
              "      <td>72217</td>\n",
              "      <td>99344</td>\n",
              "      <td>98628</td>\n",
              "      <td>99344</td>\n",
              "      <td>98380</td>\n",
              "      <td>99344</td>\n",
              "      <td>0</td>\n",
              "      <td>98285</td>\n",
              "      <td>99344</td>\n",
              "      <td>56</td>\n",
              "      <td>6891</td>\n",
              "      <td>99344</td>\n",
              "      <td>98841</td>\n",
              "      <td>99344</td>\n",
              "      <td>98876</td>\n",
              "      <td>99344</td>\n",
              "      <td>98388</td>\n",
              "      <td>99344</td>\n",
              "      <td>99344</td>\n",
              "    </tr>\n",
              "  </tbody>\n",
              "</table>\n",
              "<p>108 rows × 20 columns</p>\n",
              "</div>"
            ],
            "text/plain": [
              "              station_id  visibility_distance  ...  humidity_quality   time\n",
              "station_name                                   ...                         \n",
              "AKSHA              98120                85818  ...             98120  98120\n",
              "ALEKSZD            93504                77264  ...             93504  93504\n",
              "ANUCH26            90336                46999  ...             90336  90336\n",
              "ARHARA             99344                83948  ...             99344  99344\n",
              "ARSENEV             1200                  696  ...              1200   1200\n",
              "...                  ...                  ...  ...               ...    ...\n",
              "VURMI              99344                54595  ...             99344  99344\n",
              "VYZEMSK            99104                66783  ...             99104  99104\n",
              "YMKUN              99344                66896  ...             99344  99344\n",
              "ZABAIKA            99344                73090  ...             99344  99344\n",
              "ZAVITAY            99344                72217  ...             99344  99344\n",
              "\n",
              "[108 rows x 20 columns]"
            ]
          },
          "metadata": {
            "tags": []
          },
          "execution_count": 14
        }
      ]
    },
    {
      "cell_type": "code",
      "metadata": {
        "id": "5tTpbZ-vMH3J",
        "outputId": "a53e1504-ef80-4521-ced7-443b3c8e9819",
        "colab": {
          "base_uri": "https://localhost:8080/",
          "height": 391
        }
      },
      "source": [
        "# Посчитаем количества NaN элементов в колонках\n",
        "meteo_df.isnull().sum()"
      ],
      "execution_count": null,
      "outputs": [
        {
          "output_type": "execute_result",
          "data": {
            "text/plain": [
              "station_name                          0\n",
              "station_id                            0\n",
              "visibility_distance             3023561\n",
              "visibility_distance_quality           0\n",
              "wind_direction                   300791\n",
              "wind_direction_quality                0\n",
              "wind_speed_avg                   302061\n",
              "wind_speed_avg_quality                0\n",
              "wind_speed_sign                 9959290\n",
              "wind_speed_max                   354325\n",
              "wind_speed_max_quality                0\n",
              "wind_speed_max_sign             9959199\n",
              "precipitation_amount            9282447\n",
              "precipitation_amount_quality          0\n",
              "temperature_ground               982877\n",
              "temperature_ground_quality            0\n",
              "temperature_air                  224204\n",
              "temperature_air_quality               0\n",
              "humidity                         306522\n",
              "humidity_quality                      0\n",
              "time                                  0\n",
              "dtype: int64"
            ]
          },
          "metadata": {
            "tags": []
          },
          "execution_count": 15
        }
      ]
    },
    {
      "cell_type": "code",
      "metadata": {
        "id": "L3t-A1aGaL3T"
      },
      "source": [
        "%%time\n",
        "# Выгружаем готовые фреймы в pkl:\n",
        "\n",
        "meteo_df.to_pickle('meteo_df.pkl')\n",
        "\n",
        "\n",
        "!ls -l --block-size=M"
      ],
      "execution_count": null,
      "outputs": []
    },
    {
      "cell_type": "code",
      "metadata": {
        "id": "JyP26fSShlHo",
        "outputId": "6f65b48a-b418-465a-ee4d-3ad52e44ac05",
        "colab": {
          "base_uri": "https://localhost:8080/",
          "height": 296
        }
      },
      "source": [
        "# пока копия графика Максима Бобурова\n",
        "wind_max = meteo_df.groupby(['time'])['wind_speed_max'].max()\n",
        "wind_max.plot()"
      ],
      "execution_count": null,
      "outputs": [
        {
          "output_type": "execute_result",
          "data": {
            "text/plain": [
              "<matplotlib.axes._subplots.AxesSubplot at 0x7f290074e198>"
            ]
          },
          "metadata": {
            "tags": []
          },
          "execution_count": 16
        },
        {
          "output_type": "display_data",
          "data": {
            "image/png": "[encoded data removed]",
            "text/plain": [
              "<Figure size 432x288 with 1 Axes>"
            ]
          },
          "metadata": {
            "tags": [],
            "needs_background": "light"
          }
        }
      ]
    },
    {
      "cell_type": "markdown",
      "metadata": {
        "id": "Xtdd8J-EISDa"
      },
      "source": [
        "#Максим Бобуров"
      ]
    },
    {
      "cell_type": "code",
      "metadata": {
        "id": "RrW6r5AVKUpa"
      },
      "source": [
        "# Получаем данные из папки\n",
        "path_to_hydro_2018_2020 = './datasets/hydro_2018-2020/'\n",
        "files_hydro_2018_2020 = ! ls -1 $path_to_hydro_2018_2020"
      ],
      "execution_count": null,
      "outputs": []
    },
    {
      "cell_type": "code",
      "metadata": {
        "id": "Q0VU8HTvIWg1",
        "outputId": "d8e38f0d-a3c7-48b5-f215-e7c0726fe00c",
        "colab": {
          "base_uri": "https://localhost:8080/",
          "height": 51
        }
      },
      "source": [
        "%%time\n",
        "# Собираем в pandas dataframe \n",
        "hydro_2018_2020_df = []\n",
        "for filename in files_hydro_2018_2020:\n",
        "    tmp = pd.read_csv(path_to_hydro_2018_2020 + filename, sep = ';')\n",
        "    hydro_2018_2020_df.append(tmp)\n",
        "hydro_2018_2020_df = pd.concat(hydro_2018_2020_df)"
      ],
      "execution_count": null,
      "outputs": [
        {
          "output_type": "stream",
          "text": [
            "CPU times: user 700 ms, sys: 102 ms, total: 802 ms\n",
            "Wall time: 810 ms\n"
          ],
          "name": "stdout"
        }
      ]
    },
    {
      "cell_type": "code",
      "metadata": {
        "id": "sGJX3h9PKy4y"
      },
      "source": [
        "# Переименовываем колонки\n",
        "hydro_2018_2020_df.columns = ['Data', 'Level_water', 'id']"
      ],
      "execution_count": null,
      "outputs": []
    },
    {
      "cell_type": "markdown",
      "metadata": {
        "id": "D9ynO0mGMYf9"
      },
      "source": [
        "# /hydro_2019-2020\n",
        "\n",
        "### new_data_all.csv\n",
        "\n",
        "> Файл с данными только об уровнях воды за период 01-01-1984 — 01-10-2020. Содержит не только архивные данные, но и оперативные с 2018 по настоящее время.\n",
        "\n",
        "- 'Data' - дата замера\n",
        "\n",
        "- 'Level_water' - максимальный уровень за день\n",
        "\n",
        "- 'id' - номер гидрологического поста\n",
        "\n",
        "### new_data_target.csv\n",
        "\n",
        "> Подмножество файла new_data_all.csv для целевых гидрологических постов"
      ]
    },
    {
      "cell_type": "code",
      "metadata": {
        "id": "IAMMIF4cK9FU",
        "outputId": "d0f09e68-d110-4423-a7ae-04384a3469c9",
        "colab": {
          "base_uri": "https://localhost:8080/",
          "height": 204
        }
      },
      "source": [
        "hydro_2018_2020_df.head()"
      ],
      "execution_count": null,
      "outputs": [
        {
          "output_type": "execute_result",
          "data": {
            "text/html": [
              "<div>\n",
              "<style scoped>\n",
              "    .dataframe tbody tr th:only-of-type {\n",
              "        vertical-align: middle;\n",
              "    }\n",
              "\n",
              "    .dataframe tbody tr th {\n",
              "        vertical-align: top;\n",
              "    }\n",
              "\n",
              "    .dataframe thead th {\n",
              "        text-align: right;\n",
              "    }\n",
              "</style>\n",
              "<table border=\"1\" class=\"dataframe\">\n",
              "  <thead>\n",
              "    <tr style=\"text-align: right;\">\n",
              "      <th></th>\n",
              "      <th>Data</th>\n",
              "      <th>Level_water</th>\n",
              "      <th>id</th>\n",
              "    </tr>\n",
              "  </thead>\n",
              "  <tbody>\n",
              "    <tr>\n",
              "      <th>0</th>\n",
              "      <td>2020-10-01 00:00:00</td>\n",
              "      <td>232.0</td>\n",
              "      <td>5116</td>\n",
              "    </tr>\n",
              "    <tr>\n",
              "      <th>1</th>\n",
              "      <td>1986-06-20 00:00:00</td>\n",
              "      <td>278.0</td>\n",
              "      <td>5292</td>\n",
              "    </tr>\n",
              "    <tr>\n",
              "      <th>2</th>\n",
              "      <td>1986-06-22 00:00:00</td>\n",
              "      <td>67.0</td>\n",
              "      <td>6022</td>\n",
              "    </tr>\n",
              "    <tr>\n",
              "      <th>3</th>\n",
              "      <td>1986-06-23 00:00:00</td>\n",
              "      <td>323.0</td>\n",
              "      <td>5216</td>\n",
              "    </tr>\n",
              "    <tr>\n",
              "      <th>4</th>\n",
              "      <td>1986-06-22 00:00:00</td>\n",
              "      <td>112.0</td>\n",
              "      <td>5094</td>\n",
              "    </tr>\n",
              "  </tbody>\n",
              "</table>\n",
              "</div>"
            ],
            "text/plain": [
              "                  Data  Level_water    id\n",
              "0  2020-10-01 00:00:00        232.0  5116\n",
              "1  1986-06-20 00:00:00        278.0  5292\n",
              "2  1986-06-22 00:00:00         67.0  6022\n",
              "3  1986-06-23 00:00:00        323.0  5216\n",
              "4  1986-06-22 00:00:00        112.0  5094"
            ]
          },
          "metadata": {
            "tags": []
          },
          "execution_count": 12
        }
      ]
    },
    {
      "cell_type": "code",
      "metadata": {
        "id": "fMHo7OfbNgtx",
        "outputId": "0d3f0e89-eabc-4c31-d311-c678a12c835d",
        "colab": {
          "base_uri": "https://localhost:8080/",
          "height": 297
        }
      },
      "source": [
        "hydro_2018_2020_df.describe()"
      ],
      "execution_count": null,
      "outputs": [
        {
          "output_type": "execute_result",
          "data": {
            "text/html": [
              "<div>\n",
              "<style scoped>\n",
              "    .dataframe tbody tr th:only-of-type {\n",
              "        vertical-align: middle;\n",
              "    }\n",
              "\n",
              "    .dataframe tbody tr th {\n",
              "        vertical-align: top;\n",
              "    }\n",
              "\n",
              "    .dataframe thead th {\n",
              "        text-align: right;\n",
              "    }\n",
              "</style>\n",
              "<table border=\"1\" class=\"dataframe\">\n",
              "  <thead>\n",
              "    <tr style=\"text-align: right;\">\n",
              "      <th></th>\n",
              "      <th>Level_water</th>\n",
              "      <th>id</th>\n",
              "    </tr>\n",
              "  </thead>\n",
              "  <tbody>\n",
              "    <tr>\n",
              "      <th>count</th>\n",
              "      <td>2.313697e+06</td>\n",
              "      <td>2.337476e+06</td>\n",
              "    </tr>\n",
              "    <tr>\n",
              "      <th>mean</th>\n",
              "      <td>2.315219e+02</td>\n",
              "      <td>5.664184e+03</td>\n",
              "    </tr>\n",
              "    <tr>\n",
              "      <th>std</th>\n",
              "      <td>2.686035e+02</td>\n",
              "      <td>5.513401e+02</td>\n",
              "    </tr>\n",
              "    <tr>\n",
              "      <th>min</th>\n",
              "      <td>-4.270000e+02</td>\n",
              "      <td>5.001000e+03</td>\n",
              "    </tr>\n",
              "    <tr>\n",
              "      <th>25%</th>\n",
              "      <td>1.120000e+02</td>\n",
              "      <td>5.160000e+03</td>\n",
              "    </tr>\n",
              "    <tr>\n",
              "      <th>50%</th>\n",
              "      <td>1.920000e+02</td>\n",
              "      <td>5.420000e+03</td>\n",
              "    </tr>\n",
              "    <tr>\n",
              "      <th>75%</th>\n",
              "      <td>3.220000e+02</td>\n",
              "      <td>6.291000e+03</td>\n",
              "    </tr>\n",
              "    <tr>\n",
              "      <th>max</th>\n",
              "      <td>1.207100e+04</td>\n",
              "      <td>6.574000e+03</td>\n",
              "    </tr>\n",
              "  </tbody>\n",
              "</table>\n",
              "</div>"
            ],
            "text/plain": [
              "        Level_water            id\n",
              "count  2.313697e+06  2.337476e+06\n",
              "mean   2.315219e+02  5.664184e+03\n",
              "std    2.686035e+02  5.513401e+02\n",
              "min   -4.270000e+02  5.001000e+03\n",
              "25%    1.120000e+02  5.160000e+03\n",
              "50%    1.920000e+02  5.420000e+03\n",
              "75%    3.220000e+02  6.291000e+03\n",
              "max    1.207100e+04  6.574000e+03"
            ]
          },
          "metadata": {
            "tags": []
          },
          "execution_count": 13
        }
      ]
    },
    {
      "cell_type": "code",
      "metadata": {
        "id": "NvL0rkjuORv7",
        "outputId": "cfe43aee-28de-478d-d269-3c47574d764f",
        "colab": {
          "base_uri": "https://localhost:8080/",
          "height": 419
        }
      },
      "source": [
        "# Удаляем из колонки Data ненужное значение времени\n",
        "from datetime import datetime, timedelta\n",
        "hydro_2018_2020_df['Data'] = pd.to_datetime(hydro_2018_2020_df['Data']).dt.date\n",
        "\n",
        "hydro_2018_2020_df"
      ],
      "execution_count": null,
      "outputs": [
        {
          "output_type": "execute_result",
          "data": {
            "text/html": [
              "<div>\n",
              "<style scoped>\n",
              "    .dataframe tbody tr th:only-of-type {\n",
              "        vertical-align: middle;\n",
              "    }\n",
              "\n",
              "    .dataframe tbody tr th {\n",
              "        vertical-align: top;\n",
              "    }\n",
              "\n",
              "    .dataframe thead th {\n",
              "        text-align: right;\n",
              "    }\n",
              "</style>\n",
              "<table border=\"1\" class=\"dataframe\">\n",
              "  <thead>\n",
              "    <tr style=\"text-align: right;\">\n",
              "      <th></th>\n",
              "      <th>Data</th>\n",
              "      <th>Level_water</th>\n",
              "      <th>id</th>\n",
              "    </tr>\n",
              "  </thead>\n",
              "  <tbody>\n",
              "    <tr>\n",
              "      <th>0</th>\n",
              "      <td>2020-10-01</td>\n",
              "      <td>232.0</td>\n",
              "      <td>5116</td>\n",
              "    </tr>\n",
              "    <tr>\n",
              "      <th>1</th>\n",
              "      <td>1986-06-20</td>\n",
              "      <td>278.0</td>\n",
              "      <td>5292</td>\n",
              "    </tr>\n",
              "    <tr>\n",
              "      <th>2</th>\n",
              "      <td>1986-06-22</td>\n",
              "      <td>67.0</td>\n",
              "      <td>6022</td>\n",
              "    </tr>\n",
              "    <tr>\n",
              "      <th>3</th>\n",
              "      <td>1986-06-23</td>\n",
              "      <td>323.0</td>\n",
              "      <td>5216</td>\n",
              "    </tr>\n",
              "    <tr>\n",
              "      <th>4</th>\n",
              "      <td>1986-06-22</td>\n",
              "      <td>112.0</td>\n",
              "      <td>5094</td>\n",
              "    </tr>\n",
              "    <tr>\n",
              "      <th>...</th>\n",
              "      <td>...</td>\n",
              "      <td>...</td>\n",
              "      <td>...</td>\n",
              "    </tr>\n",
              "    <tr>\n",
              "      <th>105852</th>\n",
              "      <td>2018-10-27</td>\n",
              "      <td>309.0</td>\n",
              "      <td>5004</td>\n",
              "    </tr>\n",
              "    <tr>\n",
              "      <th>105853</th>\n",
              "      <td>2018-05-04</td>\n",
              "      <td>59.0</td>\n",
              "      <td>6296</td>\n",
              "    </tr>\n",
              "    <tr>\n",
              "      <th>105854</th>\n",
              "      <td>2018-10-16</td>\n",
              "      <td>93.0</td>\n",
              "      <td>5012</td>\n",
              "    </tr>\n",
              "    <tr>\n",
              "      <th>105855</th>\n",
              "      <td>2019-05-25</td>\n",
              "      <td>28.0</td>\n",
              "      <td>5024</td>\n",
              "    </tr>\n",
              "    <tr>\n",
              "      <th>105856</th>\n",
              "      <td>2019-08-24</td>\n",
              "      <td>628.0</td>\n",
              "      <td>5024</td>\n",
              "    </tr>\n",
              "  </tbody>\n",
              "</table>\n",
              "<p>2337476 rows × 3 columns</p>\n",
              "</div>"
            ],
            "text/plain": [
              "              Data  Level_water    id\n",
              "0       2020-10-01        232.0  5116\n",
              "1       1986-06-20        278.0  5292\n",
              "2       1986-06-22         67.0  6022\n",
              "3       1986-06-23        323.0  5216\n",
              "4       1986-06-22        112.0  5094\n",
              "...            ...          ...   ...\n",
              "105852  2018-10-27        309.0  5004\n",
              "105853  2018-05-04         59.0  6296\n",
              "105854  2018-10-16         93.0  5012\n",
              "105855  2019-05-25         28.0  5024\n",
              "105856  2019-08-24        628.0  5024\n",
              "\n",
              "[2337476 rows x 3 columns]"
            ]
          },
          "metadata": {
            "tags": []
          },
          "execution_count": 14
        }
      ]
    },
    {
      "cell_type": "code",
      "metadata": {
        "id": "DaYdGH-yPM-w",
        "outputId": "b37a8080-64bb-431c-85ca-113c5fad9124",
        "colab": {
          "base_uri": "https://localhost:8080/",
          "height": 296
        }
      },
      "source": [
        "level_max = hydro_2018_2020_df.groupby(['Data'])['Level_water'].max()\n",
        "level_max.plot()"
      ],
      "execution_count": null,
      "outputs": [
        {
          "output_type": "execute_result",
          "data": {
            "text/plain": [
              "<matplotlib.axes._subplots.AxesSubplot at 0x7fd5717c4c18>"
            ]
          },
          "metadata": {
            "tags": []
          },
          "execution_count": 15
        },
        {
          "output_type": "display_data",
          "data": {
            "image/png": "[encoded data removed]",
            "text/plain": [
              "<Figure size 432x288 with 1 Axes>"
            ]
          },
          "metadata": {
            "tags": [],
            "needs_background": "light"
          }
        }
      ]
    },
    {
      "cell_type": "code",
      "metadata": {
        "id": "Oys7QhBTYI3j",
        "outputId": "528b9f8e-dc3b-4606-c7bd-89d42eadbaf0",
        "colab": {
          "base_uri": "https://localhost:8080/",
          "height": 238
        }
      },
      "source": [
        "grouped_df = hydro_2018_2020_df.groupby(['id'])['Level_water'].value_counts(bins=4)\n",
        "grouped_df"
      ],
      "execution_count": null,
      "outputs": [
        {
          "output_type": "execute_result",
          "data": {
            "text/plain": [
              "id                    \n",
              "5001  (-31.163, 260.5]    6623\n",
              "      (260.5, 551.0]      5789\n",
              "      (551.0, 841.5]       818\n",
              "      (841.5, 1132.0]       59\n",
              "5002  (374.0, 650.0]      6379\n",
              "                          ... \n",
              "6573  (180.5, 203.75]        8\n",
              "6574  (16.5, 62.0]        4266\n",
              "      (62.0, 107.5]        860\n",
              "      (-29.183, 16.5]      586\n",
              "      (107.5, 153.0]        79\n",
              "Name: Level_water, Length: 792, dtype: int64"
            ]
          },
          "metadata": {
            "tags": []
          },
          "execution_count": 16
        }
      ]
    },
    {
      "cell_type": "code",
      "metadata": {
        "id": "Zm1Of24INwix"
      },
      "source": [
        "# Усредняем пропущенные значения\n",
        "hydro_2018_2020_df = hydro_2018_2020_df.fillna(hydro_2018_2020_df.mean())"
      ],
      "execution_count": null,
      "outputs": []
    },
    {
      "cell_type": "code",
      "metadata": {
        "id": "StW78f8LNmRS",
        "outputId": "ee92630f-4f92-4bf8-bddf-bb6f86973eb2",
        "colab": {
          "base_uri": "https://localhost:8080/",
          "height": 419
        }
      },
      "source": [
        "num_id = hydro_2018_2020_df.sort_values(['id','Level_water'])\n",
        "num_id"
      ],
      "execution_count": null,
      "outputs": [
        {
          "output_type": "execute_result",
          "data": {
            "text/html": [
              "<div>\n",
              "<style scoped>\n",
              "    .dataframe tbody tr th:only-of-type {\n",
              "        vertical-align: middle;\n",
              "    }\n",
              "\n",
              "    .dataframe tbody tr th {\n",
              "        vertical-align: top;\n",
              "    }\n",
              "\n",
              "    .dataframe thead th {\n",
              "        text-align: right;\n",
              "    }\n",
              "</style>\n",
              "<table border=\"1\" class=\"dataframe\">\n",
              "  <thead>\n",
              "    <tr style=\"text-align: right;\">\n",
              "      <th></th>\n",
              "      <th>Data</th>\n",
              "      <th>Level_water</th>\n",
              "      <th>id</th>\n",
              "    </tr>\n",
              "  </thead>\n",
              "  <tbody>\n",
              "    <tr>\n",
              "      <th>81578</th>\n",
              "      <td>1986-11-19</td>\n",
              "      <td>-30.0000</td>\n",
              "      <td>5001</td>\n",
              "    </tr>\n",
              "    <tr>\n",
              "      <th>79442</th>\n",
              "      <td>1986-11-20</td>\n",
              "      <td>-29.0000</td>\n",
              "      <td>5001</td>\n",
              "    </tr>\n",
              "    <tr>\n",
              "      <th>85154</th>\n",
              "      <td>1986-11-18</td>\n",
              "      <td>-26.0000</td>\n",
              "      <td>5001</td>\n",
              "    </tr>\n",
              "    <tr>\n",
              "      <th>81592</th>\n",
              "      <td>1986-11-17</td>\n",
              "      <td>-22.0000</td>\n",
              "      <td>5001</td>\n",
              "    </tr>\n",
              "    <tr>\n",
              "      <th>81839</th>\n",
              "      <td>1986-11-16</td>\n",
              "      <td>-20.0000</td>\n",
              "      <td>5001</td>\n",
              "    </tr>\n",
              "    <tr>\n",
              "      <th>...</th>\n",
              "      <td>...</td>\n",
              "      <td>...</td>\n",
              "      <td>...</td>\n",
              "    </tr>\n",
              "    <tr>\n",
              "      <th>2228480</th>\n",
              "      <td>2008-02-21</td>\n",
              "      <td>231.5219</td>\n",
              "      <td>6574</td>\n",
              "    </tr>\n",
              "    <tr>\n",
              "      <th>2228533</th>\n",
              "      <td>2008-02-24</td>\n",
              "      <td>231.5219</td>\n",
              "      <td>6574</td>\n",
              "    </tr>\n",
              "    <tr>\n",
              "      <th>2229639</th>\n",
              "      <td>2008-02-25</td>\n",
              "      <td>231.5219</td>\n",
              "      <td>6574</td>\n",
              "    </tr>\n",
              "    <tr>\n",
              "      <th>2229757</th>\n",
              "      <td>2008-02-26</td>\n",
              "      <td>231.5219</td>\n",
              "      <td>6574</td>\n",
              "    </tr>\n",
              "    <tr>\n",
              "      <th>2231440</th>\n",
              "      <td>2008-02-23</td>\n",
              "      <td>231.5219</td>\n",
              "      <td>6574</td>\n",
              "    </tr>\n",
              "  </tbody>\n",
              "</table>\n",
              "<p>2337476 rows × 3 columns</p>\n",
              "</div>"
            ],
            "text/plain": [
              "               Data  Level_water    id\n",
              "81578    1986-11-19     -30.0000  5001\n",
              "79442    1986-11-20     -29.0000  5001\n",
              "85154    1986-11-18     -26.0000  5001\n",
              "81592    1986-11-17     -22.0000  5001\n",
              "81839    1986-11-16     -20.0000  5001\n",
              "...             ...          ...   ...\n",
              "2228480  2008-02-21     231.5219  6574\n",
              "2228533  2008-02-24     231.5219  6574\n",
              "2229639  2008-02-25     231.5219  6574\n",
              "2229757  2008-02-26     231.5219  6574\n",
              "2231440  2008-02-23     231.5219  6574\n",
              "\n",
              "[2337476 rows x 3 columns]"
            ]
          },
          "metadata": {
            "tags": []
          },
          "execution_count": 34
        }
      ]
    },
    {
      "cell_type": "code",
      "metadata": {
        "id": "s5Et_rGjP6JZ"
      },
      "source": [
        ""
      ],
      "execution_count": null,
      "outputs": []
    }
  ]
}